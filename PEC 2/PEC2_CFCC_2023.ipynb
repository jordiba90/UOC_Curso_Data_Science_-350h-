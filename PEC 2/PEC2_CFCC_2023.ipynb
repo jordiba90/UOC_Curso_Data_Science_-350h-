{
 "cells": [
  {
   "cell_type": "markdown",
   "metadata": {
    "colab_type": "text",
    "id": "e9J5Ddcv28uZ"
   },
   "source": [
    "\n",
    "\n",
    "# PEC2: Insights datos Idealista\n",
    "\n",
    "En esta PEC2, debéis hacer el mismo ejercicio que hemos hecho en el Notebook Insight_Datos_Teleco.ipynb pero con la información de Idealista que se os proporciona junto a este Notebook y el enunciado. El objetivo es, una vez limpiado el dataset, estudiarlo para extraer el máximo número de insights de los datos."
   ]
  },
  {
   "cell_type": "markdown",
   "metadata": {
    "colab_type": "text",
    "id": "QuM9Y0K528ud"
   },
   "source": [
    "\n",
    "\n",
    "## Cargar librerías"
   ]
  },
  {
   "cell_type": "code",
   "execution_count": null,
   "metadata": {
    "colab": {},
    "colab_type": "code",
    "id": "gdji6CoD28uf"
   },
   "outputs": [],
   "source": [
    "%matplotlib inline\n",
    "\n",
    "import re\n",
    "import random\n",
    "from collections import Counter\n",
    "\n",
    "import pandas as pd\n",
    "pd.set_option('display.max_colwidth', -1)\n",
    "import numpy as np\n",
    "import matplotlib.pyplot as plt\n",
    "import seaborn as sns\n",
    "from scipy.stats import kstest\n",
    "sns.set(color_codes=True)\n"
   ]
  },
  {
   "cell_type": "markdown",
   "metadata": {
    "colab_type": "text",
    "id": "tqVscQBt28uk"
   },
   "source": [
    "\n",
    "\n",
    "## 1. Lectura y unificación de datos. Puede ser tanto de la descarga de Idealista si hiciesteis la PEC1 versión con Claves, o directamente los 8 ficheros CSV. (2 puntos)"
   ]
  },
  {
   "cell_type": "markdown",
   "metadata": {
    "colab_type": "text",
    "id": "I69cvDGk28ur"
   },
   "source": [
    "\n",
    "\n",
    "### Comprobar lectura correcta del dataset"
   ]
  },
  {
   "cell_type": "markdown",
   "metadata": {
    "colab_type": "text",
    "id": "2jB2SVL028us"
   },
   "source": [
    "\n",
    "\n",
    "### Comprobar dimensiones del dataset"
   ]
  },
  {
   "cell_type": "markdown",
   "metadata": {
    "colab_type": "text",
    "id": "4IC_htfU28uw"
   },
   "source": [
    "\n",
    "\n",
    "## 2. Data Wrangling (4 puntos)"
   ]
  },
  {
   "cell_type": "markdown",
   "metadata": {
    "colab_type": "text",
    "id": "O5r5WxL728uy"
   },
   "source": [
    "\n",
    "\n",
    "### Formateo de las variables (strings, numéricas y booleanas)"
   ]
  },
  {
   "cell_type": "markdown",
   "metadata": {
    "colab_type": "text",
    "id": "-cnYIEYN28u0"
   },
   "source": [
    "\n",
    "\n",
    "### Comprobación y eliminación de registros repetidos"
   ]
  },
  {
   "cell_type": "markdown",
   "metadata": {
    "colab_type": "text",
    "id": "diPno4wp28u2"
   },
   "source": [
    "\n",
    "\n",
    "### Comprobación de columnas que no aportan información"
   ]
  },
  {
   "cell_type": "markdown",
   "metadata": {
    "colab_type": "text",
    "id": "Uvj0SIh828u4"
   },
   "source": [
    "\n",
    "\n",
    "### Estudio de la varianza para las variables numéricas"
   ]
  },
  {
   "cell_type": "markdown",
   "metadata": {
    "colab_type": "text",
    "id": "alUWPm9U28u5"
   },
   "source": [
    "\n",
    "\n",
    "### Estudio de agrupaciones para las variables categóricas"
   ]
  },
  {
   "cell_type": "markdown",
   "metadata": {
    "colab_type": "text",
    "id": "9CR1uOna28u6"
   },
   "source": [
    "\n",
    "\n",
    "### Comprobación y eliminación de nulos"
   ]
  },
  {
   "cell_type": "markdown",
   "metadata": {
    "colab_type": "text",
    "id": "fUEE9f_J28u8"
   },
   "source": [
    "\n",
    "\n",
    "### Comprobación y eliminación de outliers"
   ]
  },
  {
   "cell_type": "markdown",
   "metadata": {
    "colab_type": "text",
    "id": "eFwQlPLt28u9"
   },
   "source": [
    "\n",
    "\n",
    "### Comprobar dimensiones y balanceo del dataset (tras terminar limpieza del dataset)"
   ]
  },
  {
   "cell_type": "markdown",
   "metadata": {
    "colab_type": "text",
    "id": "pooiu4Pu28u_"
   },
   "source": [
    "\n",
    "\n",
    "## 3. Análisis Exploratorio de Datos (4 puntos)"
   ]
  },
  {
   "cell_type": "markdown",
   "metadata": {
    "colab_type": "text",
    "id": "YPGA8Uks28vA"
   },
   "source": [
    "\n",
    "\n",
    "### Estudio de las variables categóricas"
   ]
  },
  {
   "cell_type": "markdown",
   "metadata": {
    "colab_type": "text",
    "id": "yAIba0QP28vB"
   },
   "source": [
    "\n",
    "\n",
    "### Convertir 3 variables categóricas a dummy. Se recomienda utilizar variables que no contengan demasiados posibles valores."
   ]
  },
  {
   "cell_type": "markdown",
   "metadata": {
    "colab_type": "text",
    "id": "GnITGLOU28vD"
   },
   "source": [
    "\n",
    "\n",
    "### Crear variables derivadas en caso que nos parezca interesante incluir alguna"
   ]
  },
  {
   "cell_type": "markdown",
   "metadata": {
    "colab_type": "text",
    "id": "rQod-mWJ28vE"
   },
   "source": [
    "\n",
    "\n",
    "### Cálculo de la matriz de correlación"
   ]
  },
  {
   "cell_type": "markdown",
   "metadata": {
    "colab_type": "text",
    "id": "_63PQuyr28vG"
   },
   "source": [
    "\n",
    "\n",
    "### Pintar la matriz de correlación"
   ]
  },
  {
   "cell_type": "markdown",
   "metadata": {
    "colab_type": "text",
    "id": "ZEaildvw28vH"
   },
   "source": [
    "\n",
    "\n",
    "### Comprobar si hay variables correlacionadas"
   ]
  }
 ],
 "metadata": {
  "colab": {
   "name": "01_python_workshop_dspe_telco_churn.ipynb",
   "provenance": []
  },
  "kernelspec": {
   "display_name": "Python 3",
   "language": "python",
   "name": "python3"
  },
  "language_info": {
   "codemirror_mode": {
    "name": "ipython",
    "version": 3
   },
   "file_extension": ".py",
   "mimetype": "text/x-python",
   "name": "python",
   "nbconvert_exporter": "python",
   "pygments_lexer": "ipython3",
   "version": "3.5.2"
  }
 },
 "nbformat": 4,
 "nbformat_minor": 4
}

{
 "cells": [
  {
   "attachments": {},
   "cell_type": "markdown",
   "metadata": {
    "colab_type": "text",
    "id": "e9J5Ddcv28uZ"
   },
   "source": [
    "# PEC3: Machine Learning\n",
    "\n",
    "El primer paso que debéis pensar, es qué variables os resultan de interés en vuestra clasificación/predicción, como por ejemplo pueden ser los metros cuadrados de la vivienda. Por temas de rendimiento se recomienda no utilizar más de 6 variables. La PEC2 debería facilitaros este proceso, ya que habéis analizado ya las variables del dataset.\n",
    "\n",
    "Se recomienda utilizar la librería Scikit-learn de Python, en el siguiente enlace, podréis ver diferentes ejemplos utilizando la librería Scikit-learn.\n",
    "\n",
    "https://scikit-learn.org/stable/"
   ]
  },
  {
   "attachments": {},
   "cell_type": "markdown",
   "metadata": {
    "colab_type": "text",
    "id": "QuM9Y0K528ud"
   },
   "source": [
    "\n",
    "\n",
    "## Cargar librerías"
   ]
  },
  {
   "cell_type": "code",
   "execution_count": 1,
   "metadata": {
    "colab": {},
    "colab_type": "code",
    "id": "gdji6CoD28uf"
   },
   "outputs": [],
   "source": [
    "%matplotlib inline\n",
    "\n",
    "import re\n",
    "import random\n",
    "from collections import Counter \n",
    "\n",
    "import pandas as pd\n",
    "pd.set_option('display.max_columns', None)\n",
    "import numpy as np\n",
    "import matplotlib.pyplot as plt\n",
    "import seaborn as sns\n",
    "from scipy.stats import kstest\n",
    "sns.set(color_codes=True)\n",
    "from sklearn.cluster import KMeans\n",
    "from sklearn.preprocessing import StandardScaler\n",
    "from sklearn.model_selection import train_test_split\n",
    "from sklearn.linear_model import LinearRegression\n",
    "from sklearn.metrics import mean_squared_error, mean_absolute_error\n",
    "from sklearn.decomposition import PCA\n",
    "\n",
    "seed = 100"
   ]
  },
  {
   "cell_type": "code",
   "execution_count": 2,
   "metadata": {},
   "outputs": [
    {
     "name": "stdout",
     "output_type": "stream",
     "text": [
      "   Unnamed: 0  propertyCode floor     price propertyType operation   size   \n",
      "0           0      826301.0    bj  430000.0       chalet      sale  162.0  \\\n",
      "\n",
      "   exterior  rooms  bathrooms    address   province municipality country   \n",
      "0     False    4.0          3  Vila-Seca  Tarragona    Vila-Seca      es  \\\n",
      "\n",
      "    latitude  longitude  distance  hasVideo status  newDevelopment  hasLift   \n",
      "0  41.121714   1.154686    5330.0     False   good           False     True  \\\n",
      "\n",
      "   priceByArea  hasPlan  has3DTour  has360  hasStaging  superTopHighlight   \n",
      "0       2654.0    False      False   False       False              False  \\\n",
      "\n",
      "   topNewDevelopment  newDevelopmentFinished typology_inmo  hasparking   \n",
      "0              False                    True         urban        True  \\\n",
      "\n",
      "   parking_price_included  parking_price zipcode  \n",
      "0                    True            0.0   43201  \n"
     ]
    }
   ],
   "source": [
    "df = pd.read_csv(\"BBDD_PEC3.csv\")\n",
    "print(df.head(1))"
   ]
  },
  {
   "cell_type": "code",
   "execution_count": 3,
   "metadata": {},
   "outputs": [
    {
     "name": "stdout",
     "output_type": "stream",
     "text": [
      "      price   size  rooms  bathrooms  distance  priceByArea  parking_price\n",
      "0  430000.0  162.0    4.0          3    5330.0       2654.0            0.0\n"
     ]
    }
   ],
   "source": [
    "df2 = df.iloc[:, 2:].select_dtypes(include='number').drop(['latitude', 'longitude'], axis=1)\n",
    "print(df2.head(1))"
   ]
  },
  {
   "cell_type": "code",
   "execution_count": 4,
   "metadata": {},
   "outputs": [
    {
     "data": {
      "text/html": [
       "<style type=\"text/css\">\n",
       "#T_de74a_row0_col0, #T_de74a_row1_col1, #T_de74a_row2_col2, #T_de74a_row3_col3, #T_de74a_row4_col4, #T_de74a_row5_col5, #T_de74a_row6_col6 {\n",
       "  background-color: #b40426;\n",
       "  color: #f1f1f1;\n",
       "}\n",
       "#T_de74a_row0_col1, #T_de74a_row3_col0 {\n",
       "  background-color: #ead5c9;\n",
       "  color: #000000;\n",
       "}\n",
       "#T_de74a_row0_col2 {\n",
       "  background-color: #cbd8ee;\n",
       "  color: #000000;\n",
       "}\n",
       "#T_de74a_row0_col3 {\n",
       "  background-color: #e5d8d1;\n",
       "  color: #000000;\n",
       "}\n",
       "#T_de74a_row0_col4 {\n",
       "  background-color: #7295f4;\n",
       "  color: #f1f1f1;\n",
       "}\n",
       "#T_de74a_row0_col5 {\n",
       "  background-color: #f7a98b;\n",
       "  color: #000000;\n",
       "}\n",
       "#T_de74a_row0_col6 {\n",
       "  background-color: #5b7ae5;\n",
       "  color: #f1f1f1;\n",
       "}\n",
       "#T_de74a_row1_col0 {\n",
       "  background-color: #d9dce1;\n",
       "  color: #000000;\n",
       "}\n",
       "#T_de74a_row1_col2 {\n",
       "  background-color: #f7b194;\n",
       "  color: #000000;\n",
       "}\n",
       "#T_de74a_row1_col3 {\n",
       "  background-color: #f7b396;\n",
       "  color: #000000;\n",
       "}\n",
       "#T_de74a_row1_col4 {\n",
       "  background-color: #bbd1f8;\n",
       "  color: #000000;\n",
       "}\n",
       "#T_de74a_row1_col5 {\n",
       "  background-color: #485fd1;\n",
       "  color: #f1f1f1;\n",
       "}\n",
       "#T_de74a_row1_col6 {\n",
       "  background-color: #455cce;\n",
       "  color: #f1f1f1;\n",
       "}\n",
       "#T_de74a_row2_col0 {\n",
       "  background-color: #b5cdfa;\n",
       "  color: #000000;\n",
       "}\n",
       "#T_de74a_row2_col1 {\n",
       "  background-color: #f7af91;\n",
       "  color: #000000;\n",
       "}\n",
       "#T_de74a_row2_col3 {\n",
       "  background-color: #efcfbf;\n",
       "  color: #000000;\n",
       "}\n",
       "#T_de74a_row2_col4 {\n",
       "  background-color: #a6c4fe;\n",
       "  color: #000000;\n",
       "}\n",
       "#T_de74a_row2_col5, #T_de74a_row2_col6 {\n",
       "  background-color: #4f69d9;\n",
       "  color: #f1f1f1;\n",
       "}\n",
       "#T_de74a_row3_col1 {\n",
       "  background-color: #f5a081;\n",
       "  color: #000000;\n",
       "}\n",
       "#T_de74a_row3_col2 {\n",
       "  background-color: #f5c0a7;\n",
       "  color: #000000;\n",
       "}\n",
       "#T_de74a_row3_col4 {\n",
       "  background-color: #a5c3fe;\n",
       "  color: #000000;\n",
       "}\n",
       "#T_de74a_row3_col5 {\n",
       "  background-color: #7da0f9;\n",
       "  color: #f1f1f1;\n",
       "}\n",
       "#T_de74a_row3_col6 {\n",
       "  background-color: #4e68d8;\n",
       "  color: #f1f1f1;\n",
       "}\n",
       "#T_de74a_row4_col0, #T_de74a_row4_col5, #T_de74a_row4_col6, #T_de74a_row5_col1, #T_de74a_row5_col2, #T_de74a_row5_col3, #T_de74a_row5_col4 {\n",
       "  background-color: #3b4cc0;\n",
       "  color: #f1f1f1;\n",
       "}\n",
       "#T_de74a_row4_col1 {\n",
       "  background-color: #b1cbfc;\n",
       "  color: #000000;\n",
       "}\n",
       "#T_de74a_row4_col2 {\n",
       "  background-color: #94b6ff;\n",
       "  color: #000000;\n",
       "}\n",
       "#T_de74a_row4_col3 {\n",
       "  background-color: #6788ee;\n",
       "  color: #f1f1f1;\n",
       "}\n",
       "#T_de74a_row5_col0 {\n",
       "  background-color: #f6bea4;\n",
       "  color: #000000;\n",
       "}\n",
       "#T_de74a_row5_col6 {\n",
       "  background-color: #5f7fe8;\n",
       "  color: #f1f1f1;\n",
       "}\n",
       "#T_de74a_row6_col0 {\n",
       "  background-color: #6485ec;\n",
       "  color: #f1f1f1;\n",
       "}\n",
       "#T_de74a_row6_col1 {\n",
       "  background-color: #779af7;\n",
       "  color: #f1f1f1;\n",
       "}\n",
       "#T_de74a_row6_col2 {\n",
       "  background-color: #799cf8;\n",
       "  color: #f1f1f1;\n",
       "}\n",
       "#T_de74a_row6_col3 {\n",
       "  background-color: #4b64d5;\n",
       "  color: #f1f1f1;\n",
       "}\n",
       "#T_de74a_row6_col4 {\n",
       "  background-color: #7a9df8;\n",
       "  color: #f1f1f1;\n",
       "}\n",
       "#T_de74a_row6_col5 {\n",
       "  background-color: #9bbcff;\n",
       "  color: #000000;\n",
       "}\n",
       "</style>\n",
       "<table id=\"T_de74a\">\n",
       "  <thead>\n",
       "    <tr>\n",
       "      <th class=\"blank level0\" >&nbsp;</th>\n",
       "      <th id=\"T_de74a_level0_col0\" class=\"col_heading level0 col0\" >price</th>\n",
       "      <th id=\"T_de74a_level0_col1\" class=\"col_heading level0 col1\" >size</th>\n",
       "      <th id=\"T_de74a_level0_col2\" class=\"col_heading level0 col2\" >rooms</th>\n",
       "      <th id=\"T_de74a_level0_col3\" class=\"col_heading level0 col3\" >bathrooms</th>\n",
       "      <th id=\"T_de74a_level0_col4\" class=\"col_heading level0 col4\" >distance</th>\n",
       "      <th id=\"T_de74a_level0_col5\" class=\"col_heading level0 col5\" >priceByArea</th>\n",
       "      <th id=\"T_de74a_level0_col6\" class=\"col_heading level0 col6\" >parking_price</th>\n",
       "    </tr>\n",
       "  </thead>\n",
       "  <tbody>\n",
       "    <tr>\n",
       "      <th id=\"T_de74a_level0_row0\" class=\"row_heading level0 row0\" >price</th>\n",
       "      <td id=\"T_de74a_row0_col0\" class=\"data row0 col0\" >1.00</td>\n",
       "      <td id=\"T_de74a_row0_col1\" class=\"data row0 col1\" >0.44</td>\n",
       "      <td id=\"T_de74a_row0_col2\" class=\"data row0 col2\" >0.32</td>\n",
       "      <td id=\"T_de74a_row0_col3\" class=\"data row0 col3\" >0.52</td>\n",
       "      <td id=\"T_de74a_row0_col4\" class=\"data row0 col4\" >-0.08</td>\n",
       "      <td id=\"T_de74a_row0_col5\" class=\"data row0 col5\" >0.62</td>\n",
       "      <td id=\"T_de74a_row0_col6\" class=\"data row0 col6\" >0.07</td>\n",
       "    </tr>\n",
       "    <tr>\n",
       "      <th id=\"T_de74a_level0_row1\" class=\"row_heading level0 row1\" >size</th>\n",
       "      <td id=\"T_de74a_row1_col0\" class=\"data row1 col0\" >0.44</td>\n",
       "      <td id=\"T_de74a_row1_col1\" class=\"data row1 col1\" >1.00</td>\n",
       "      <td id=\"T_de74a_row1_col2\" class=\"data row1 col2\" >0.62</td>\n",
       "      <td id=\"T_de74a_row1_col3\" class=\"data row1 col3\" >0.67</td>\n",
       "      <td id=\"T_de74a_row1_col4\" class=\"data row1 col4\" >0.19</td>\n",
       "      <td id=\"T_de74a_row1_col5\" class=\"data row1 col5\" >-0.25</td>\n",
       "      <td id=\"T_de74a_row1_col6\" class=\"data row1 col6\" >-0.01</td>\n",
       "    </tr>\n",
       "    <tr>\n",
       "      <th id=\"T_de74a_level0_row2\" class=\"row_heading level0 row2\" >rooms</th>\n",
       "      <td id=\"T_de74a_row2_col0\" class=\"data row2 col0\" >0.32</td>\n",
       "      <td id=\"T_de74a_row2_col1\" class=\"data row2 col1\" >0.62</td>\n",
       "      <td id=\"T_de74a_row2_col2\" class=\"data row2 col2\" >1.00</td>\n",
       "      <td id=\"T_de74a_row2_col3\" class=\"data row2 col3\" >0.56</td>\n",
       "      <td id=\"T_de74a_row2_col4\" class=\"data row2 col4\" >0.11</td>\n",
       "      <td id=\"T_de74a_row2_col5\" class=\"data row2 col5\" >-0.21</td>\n",
       "      <td id=\"T_de74a_row2_col6\" class=\"data row2 col6\" >0.02</td>\n",
       "    </tr>\n",
       "    <tr>\n",
       "      <th id=\"T_de74a_level0_row3\" class=\"row_heading level0 row3\" >bathrooms</th>\n",
       "      <td id=\"T_de74a_row3_col0\" class=\"data row3 col0\" >0.52</td>\n",
       "      <td id=\"T_de74a_row3_col1\" class=\"data row3 col1\" >0.67</td>\n",
       "      <td id=\"T_de74a_row3_col2\" class=\"data row3 col2\" >0.56</td>\n",
       "      <td id=\"T_de74a_row3_col3\" class=\"data row3 col3\" >1.00</td>\n",
       "      <td id=\"T_de74a_row3_col4\" class=\"data row3 col4\" >0.11</td>\n",
       "      <td id=\"T_de74a_row3_col5\" class=\"data row3 col5\" >-0.04</td>\n",
       "      <td id=\"T_de74a_row3_col6\" class=\"data row3 col6\" >0.02</td>\n",
       "    </tr>\n",
       "    <tr>\n",
       "      <th id=\"T_de74a_level0_row4\" class=\"row_heading level0 row4\" >distance</th>\n",
       "      <td id=\"T_de74a_row4_col0\" class=\"data row4 col0\" >-0.08</td>\n",
       "      <td id=\"T_de74a_row4_col1\" class=\"data row4 col1\" >0.19</td>\n",
       "      <td id=\"T_de74a_row4_col2\" class=\"data row4 col2\" >0.11</td>\n",
       "      <td id=\"T_de74a_row4_col3\" class=\"data row4 col3\" >0.11</td>\n",
       "      <td id=\"T_de74a_row4_col4\" class=\"data row4 col4\" >1.00</td>\n",
       "      <td id=\"T_de74a_row4_col5\" class=\"data row4 col5\" >-0.31</td>\n",
       "      <td id=\"T_de74a_row4_col6\" class=\"data row4 col6\" >-0.05</td>\n",
       "    </tr>\n",
       "    <tr>\n",
       "      <th id=\"T_de74a_level0_row5\" class=\"row_heading level0 row5\" >priceByArea</th>\n",
       "      <td id=\"T_de74a_row5_col0\" class=\"data row5 col0\" >0.62</td>\n",
       "      <td id=\"T_de74a_row5_col1\" class=\"data row5 col1\" >-0.25</td>\n",
       "      <td id=\"T_de74a_row5_col2\" class=\"data row5 col2\" >-0.21</td>\n",
       "      <td id=\"T_de74a_row5_col3\" class=\"data row5 col3\" >-0.04</td>\n",
       "      <td id=\"T_de74a_row5_col4\" class=\"data row5 col4\" >-0.31</td>\n",
       "      <td id=\"T_de74a_row5_col5\" class=\"data row5 col5\" >1.00</td>\n",
       "      <td id=\"T_de74a_row5_col6\" class=\"data row5 col6\" >0.07</td>\n",
       "    </tr>\n",
       "    <tr>\n",
       "      <th id=\"T_de74a_level0_row6\" class=\"row_heading level0 row6\" >parking_price</th>\n",
       "      <td id=\"T_de74a_row6_col0\" class=\"data row6 col0\" >0.07</td>\n",
       "      <td id=\"T_de74a_row6_col1\" class=\"data row6 col1\" >-0.01</td>\n",
       "      <td id=\"T_de74a_row6_col2\" class=\"data row6 col2\" >0.02</td>\n",
       "      <td id=\"T_de74a_row6_col3\" class=\"data row6 col3\" >0.02</td>\n",
       "      <td id=\"T_de74a_row6_col4\" class=\"data row6 col4\" >-0.05</td>\n",
       "      <td id=\"T_de74a_row6_col5\" class=\"data row6 col5\" >0.07</td>\n",
       "      <td id=\"T_de74a_row6_col6\" class=\"data row6 col6\" >1.00</td>\n",
       "    </tr>\n",
       "  </tbody>\n",
       "</table>\n"
      ],
      "text/plain": [
       "<pandas.io.formats.style.Styler at 0x1ae3fe29e50>"
      ]
     },
     "execution_count": 4,
     "metadata": {},
     "output_type": "execute_result"
    }
   ],
   "source": [
    "corr_all = df2.corr()\n",
    "corr_all.style.background_gradient(cmap='coolwarm').format(precision=2)"
   ]
  },
  {
   "attachments": {},
   "cell_type": "markdown",
   "metadata": {
    "colab_type": "text",
    "id": "tqVscQBt28uk"
   },
   "source": [
    "## 1) Aprendizaje No Supervisado (4 puntos)\n",
    "\n",
    "  Se pide crear un modelo KMEANS para clasificar las viviendas del conjunto de datos y representarlo gráficamente en el propio Notebook de Python. En este caso debéis tener en cuenta el número de clusters (k) que queréis que tenga vuestro modelo, podéis poner el que consideréis, pero se recomienda utilizar el llamado “elbow method” para estimarlo."
   ]
  },
  {
   "attachments": {},
   "cell_type": "markdown",
   "metadata": {},
   "source": [
    "### 1.1) Crear modelo KMeans"
   ]
  },
  {
   "cell_type": "code",
   "execution_count": 5,
   "metadata": {},
   "outputs": [],
   "source": [
    "# Normalización de los datos\n",
    "scaler = StandardScaler()\n",
    "df_scaled = scaler.fit_transform(df2)\n",
    "\n",
    "# Determinación del número óptimo de clústeres utilizando \"elbow method\"\n",
    "sum_of_squared_distances = []\n",
    "k_values = range(1, 10)\n",
    "\n",
    "for k in k_values:\n",
    "    kmeans = KMeans(n_clusters=k, n_init=10, random_state=42)\n",
    "    kmeans.fit(df_scaled)\n",
    "    sum_of_squared_distances.append(kmeans.inertia_)\n",
    "\n"
   ]
  },
  {
   "attachments": {},
   "cell_type": "markdown",
   "metadata": {},
   "source": [
    "### 1.2) Representar gráficamente modelo KMeans"
   ]
  },
  {
   "cell_type": "code",
   "execution_count": 6,
   "metadata": {},
   "outputs": [
    {
     "data": {
      "image/png": "[encoded data removed]",
      "text/plain": [
       "<Figure size 640x480 with 1 Axes>"
      ]
     },
     "metadata": {},
     "output_type": "display_data"
    }
   ],
   "source": [
    "# Representación gráfica del método del codo\n",
    "plt.plot(k_values, sum_of_squared_distances, 'bx-')\n",
    "plt.xlabel('Número de Clústeres')\n",
    "plt.ylabel('Suma de las distancias al cuadrado')\n",
    "plt.show()"
   ]
  },
  {
   "attachments": {},
   "cell_type": "markdown",
   "metadata": {},
   "source": [
    "## 2) Aprendizaje Supervisado (4 puntos)\n",
    "\n",
    "Se pide crear un modelo Linear Regression, para ello se deberá entrenar con el 80% del conjunto de datos (training set). Posteriormente se comprobará la precisión del modelo entrenado con el 20% restante (testing set)."
   ]
  },
  {
   "attachments": {},
   "cell_type": "markdown",
   "metadata": {},
   "source": [
    "### 2.1) Crear MRLM"
   ]
  },
  {
   "cell_type": "code",
   "execution_count": 7,
   "metadata": {},
   "outputs": [],
   "source": [
    "# Dividir el conjunto de datos en entrenamiento y prueba\n",
    "X = df2.drop(\"price\", axis=1)\n",
    "y = df2[\"price\"]\n",
    "X_train, X_test, y_train, y_test = train_test_split(X, y, test_size=0.2, random_state=seed)\n",
    "\n",
    "# Crear y entrenar el modelo de regresión lineal\n",
    "model = LinearRegression()\n",
    "model.fit(X_train, y_train)\n",
    "y_pred = model.predict(X_test)"
   ]
  },
  {
   "attachments": {},
   "cell_type": "markdown",
   "metadata": {},
   "source": [
    "### 2.2) Comprobar precisión"
   ]
  },
  {
   "cell_type": "code",
   "execution_count": 8,
   "metadata": {},
   "outputs": [
    {
     "name": "stdout",
     "output_type": "stream",
     "text": [
      "Error absoluto medio (MAE): 76331.39\n",
      "Error cuadrático medio (MSE): 15594136463.47\n"
     ]
    }
   ],
   "source": [
    "# Calcular el error absoluto medio (MAE) en el conjunto de prueba\n",
    "mae = mean_absolute_error(y_test, y_pred)\n",
    "\n",
    "# Calcular el error cuadrático medio (MSE) en el conjunto de prueba\n",
    "mse = mean_squared_error(y_test, y_pred)\n",
    "\n",
    "print(\"Error absoluto medio (MAE):\", round(mae,2))\n",
    "print(\"Error cuadrático medio (MSE):\", round(mse,2))"
   ]
  },
  {
   "attachments": {},
   "cell_type": "markdown",
   "metadata": {},
   "source": [
    "    Según el MAE, las predicciones pueden estar por encima o por debajo del valor real en alrededor de 74,327.51 euros."
   ]
  },
  {
   "attachments": {},
   "cell_type": "markdown",
   "metadata": {},
   "source": [
    "## 3) Evaluación de Modelos (2 puntos)\n",
    "\n",
    "Una vez creado el modelo Linear Regression, vamos a evaluar gráficamente la precisión del modelo. Para ello se pide representar con alguna librería de Python de las vistas en el primer Módulo tanto el resultado conocido del testing set vs el resultado que predice el modelo para ese mismo conjunto de datos."
   ]
  },
  {
   "attachments": {},
   "cell_type": "markdown",
   "metadata": {},
   "source": [
    "### 3.1) Representar gráficamente la predicción"
   ]
  },
  {
   "cell_type": "code",
   "execution_count": 9,
   "metadata": {},
   "outputs": [
    {
     "data": {
      "image/png": "[encoded data removed]",
      "text/plain": [
       "<Figure size 640x480 with 1 Axes>"
      ]
     },
     "metadata": {},
     "output_type": "display_data"
    }
   ],
   "source": [
    "# Realizar predicciones en el conjunto de prueba\n",
    "y_pred = model.predict(X_test)\n",
    "\n",
    "# Representación gráfica de los resultados conocidos vs. predicciones\n",
    "plt.scatter(y_test, y_pred)\n",
    "plt.plot([y_test.min(), y_test.max()], [y_test.min(), y_test.max()], 'k--', lw=2)\n",
    "plt.xlabel('Resultado conocido')\n",
    "plt.ylabel('Predicción del modelo')\n",
    "plt.title('Precisión del modelo de regresión lineal')\n",
    "plt.show()"
   ]
  },
  {
   "attachments": {},
   "cell_type": "markdown",
   "metadata": {},
   "source": [
    "### 3.2) Evaluar el gráfico anterior"
   ]
  },
  {
   "attachments": {},
   "cell_type": "markdown",
   "metadata": {},
   "source": [
    "La predicción es más fiable en precios bajos que en precios altos."
   ]
  }
 ],
 "metadata": {
  "colab": {
   "name": "01_python_workshop_dspe_telco_churn.ipynb",
   "provenance": []
  },
  "kernelspec": {
   "display_name": "Python 3",
   "language": "python",
   "name": "python3"
  },
  "language_info": {
   "codemirror_mode": {
    "name": "ipython",
    "version": 3
   },
   "file_extension": ".py",
   "mimetype": "text/x-python",
   "name": "python",
   "nbconvert_exporter": "python",
   "pygments_lexer": "ipython3",
   "version": "3.11.3"
  }
 },
 "nbformat": 4,
 "nbformat_minor": 4
}

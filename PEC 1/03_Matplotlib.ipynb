{
 "cells": [
  {
   "cell_type": "markdown",
   "metadata": {},
   "source": [
    "03 Matplotlib\n",
    "============================\n",
    "\n",
    "Instruccions d'ús\n",
    "-----------------\n",
    "\n",
    "A continuació es presentaran explicacions i exemples d'ús de la\n",
    "llibreria Matplotlib. Recordeu que podeu anar executant els exemples per\n",
    "obtenir-ne els resultats.\n",
    "\n",
    "Introducció\n",
    "-----------\n",
    "\n",
    "El codi de Matplotlib està dividit en tres parts: *pylab*, *Matplotlib\n",
    "API* i *backends*. La primera part, *pylab*, és la interfície que permet\n",
    "crear gràfics amb un codi i funcionament molt similar a com es faria en\n",
    "Matlab. *Matplotlib API* és la part essencial que la resta de codi\n",
    "utilitza i, finalment, *backends* és la part encarregada de la\n",
    "representació depenent de la plataforma (tipus de fitxers d'imatge,\n",
    "dispositius de visualització, etc.). En aquest mòdul només farem\n",
    "exemples i exercicis utilitzant *pylab*.\n",
    "\n",
    "Podeu consultar molts exemples a l'[ajuda de la\n",
    "llibreria](http://matplotlib.org/1.3.1/examples/index.html).\n",
    "\n",
    "Exemple 1: representar la funció cosinus\n",
    "----------------------------------------\n",
    "\n",
    "Al primer exemple representarem dos _arrays_, un davant de l'altre, als\n",
    "eixos X i Y respectivament. **Observeu que per fer que els gràfics\n",
    "es mostrin en el mateix Notebook hem d'afegir la directiva especial**\n",
    "*%matplotlib inline*."
   ]
  },
  {
   "cell_type": "code",
   "execution_count": null,
   "metadata": {
    "attributes": {
     "classes": [
      "sourceCode"
     ],
     "id": ""
    }
   },
   "outputs": [],
   "source": [
    "%matplotlib inline\n",
    "\n",
    "# Aquest primer import és necessari per inicialitzar l'entorn de Matplotlib.\n",
    "import matplotlib\n",
    "import numpy as np\n",
    "# Importem la llibreria utilitzant l'àlies 'plt'.\n",
    "import matplotlib.pyplot as plt\n",
    "\n",
    "# Calculem una matriu de -2*PI a 2*PI amb un pas de 0.1.\n",
    "x = np.arange(-2*np.pi, 2*np.pi, 0.1)\n",
    "\n",
    "# Representem l'array x amb el valor de cos(x).\n",
    "plt.plot(x, np.cos(x))\n",
    "\n",
    "# Afegim els noms als eixos X i Y respectivament:\n",
    "plt.xlabel('x')\n",
    "plt.ylabel('cos(x)')\n",
    "\n",
    "# Finalment mostrarem el gràfic:\n",
    "plt.show()"
   ]
  },
  {
   "cell_type": "markdown",
   "metadata": {},
   "source": [
    "Exemple 2: representar les funcions cosinus i sinus alhora\n",
    "----------------------------------------------------------\n",
    "\n",
    "En aquest exemple, calcularem els valors de les funcions sinus i cosinus\n",
    "per al mateix rang de valors i les representarem al mateix gràfic."
   ]
  },
  {
   "cell_type": "code",
   "execution_count": null,
   "metadata": {
    "attributes": {
     "classes": [
      "sourceCode"
     ],
     "id": ""
    }
   },
   "outputs": [],
   "source": [
    "%matplotlib inline\n",
    "\n",
    "import matplotlib\n",
    "import numpy as np\n",
    "import matplotlib.pyplot as plt\n",
    "\n",
    "# Calculem una matriu de -2*PI a 2*PI amb un pas de 0.1.\n",
    "x = np.arange(-2*np.pi, 2*np.pi, 0.1)\n",
    "\n",
    "# Podem encadenar la representació de múltiples funcions al mateix gràfic.\n",
    "# En aquest ordre: array x, cos(x), 'r' farà servir el color vermell (red), \n",
    "# array x, sin(x) i verd (green)\n",
    "plt.plot(x, np.cos(x), 'r', x, np.sin(x), 'g')\n",
    "\n",
    "# De manera equivalent, podríem fer una crida en dues ocasions a la funció plot:\n",
    "#plt.plot(x, np.cos(x), 'r')\n",
    "#plt.plot(x, np.sin(x), 'g')\n",
    "\n",
    "# Afegim els noms als eixos X i Y respectivament:\n",
    "plt.xlabel('x')\n",
    "plt.ylabel('cos(x)')\n",
    "\n",
    "# Finalment, mostrarem el gràfic.\n",
    "plt.show()"
   ]
  },
  {
   "cell_type": "markdown",
   "metadata": {},
   "source": [
    "Exemple 3: histogrames\n",
    "----------------------\n",
    "\n",
    "Matplotlib disposa de molts tipus de gràfics implementats, entre els\n",
    "quals hi ha els histogrames. En aquest exemple representem una [funció\n",
    "gaussiana](https://es.wikipedia.org/wiki/Funci%C3%B3n_gaussiana)."
   ]
  },
  {
   "cell_type": "code",
   "execution_count": null,
   "metadata": {
    "attributes": {
     "classes": [
      "sourceCode"
     ],
     "id": ""
    }
   },
   "outputs": [],
   "source": [
    "%matplotlib inline\n",
    "\n",
    "import matplotlib\n",
    "import numpy as np\n",
    "import matplotlib.pyplot as plt\n",
    "import matplotlib.mlab as mlab\n",
    "\n",
    "# Paràmetres de la funció gaussiana:\n",
    "mu, sigma = 50, 7\n",
    "\n",
    "# Generem una matriu utilitzant aquests paràmetres i nombres aleatoris.\n",
    "x = mu + sigma * np.random.randn(10000)\n",
    "\n",
    "# La funció 'hist' calcula la freqüència i el nombre de barres. L'argument 'normed = 1'\n",
    "# normalitza els valors de probabilitat ([0,1]), 'facecolor' controla el color del gràfic, \n",
    "# i 'alpha', el valor de la transparència de les barres.\n",
    "n, bins, patches = plt.hist(x, 30, density=1, facecolor='dodgerblue', alpha=0.5)\n",
    "\n",
    "plt.xlabel('x')\n",
    "plt.ylabel('Probabilitat')\n",
    "\n",
    "# Situem el text amb els valors de 'mu' i 'sigma' al gràfic:\n",
    "plt.text(20, .025, r'$\\mu=50,\\ \\sigma=7$')\n",
    "\n",
    "# Controlem manualment la mida dels eixos. Els dos primers valors es corresponen amb 'xmin' i \n",
    "# 'xmax' i els següents amb 'ymin' i 'ymax':\n",
    "plt.axis([10, 90, 0, 0.07])\n",
    "\n",
    "# Mostrem una reixeta:\n",
    "plt.grid(True)\n",
    "\n",
    "plt.show()"
   ]
  },
  {
   "cell_type": "markdown",
   "metadata": {},
   "source": [
    "Exemple 4: representació del conjunt de Mandelbrot\n",
    "--------------------------------------------------\n",
    "\n",
    "El conjunt de Mandelbrot és un dels conjunts fractals més estudiats i\n",
    "coneguts. Podeu trobar més informació en línia sobre [el conjunt i els\n",
    "fractals en\n",
    "general](https://es.wikipedia.org/wiki/Conjunto_de_Mandelbrot).\n",
    "\n",
    "L'exemple és una adaptació d'[aquest codi](https://scipy-lectures.github.io/intro/numpy/exercises.html#mandelbrot-set)."
   ]
  },
  {
   "cell_type": "code",
   "execution_count": null,
   "metadata": {},
   "outputs": [],
   "source": [
    "%matplotlib inline\n",
    "\n",
    "import numpy as np\n",
    "import matplotlib.pyplot as plt\n",
    "from numpy import newaxis\n",
    "\n",
    "# La funció que calcularà el conjunt de Mandelbrot.\n",
    "def mandelbrot(N_max, threshold, nx, ny):\n",
    "    # Creem una matriu amb nx elements entre els valors -2 i 1.\n",
    "    x = np.linspace(-2, 1, nx)\n",
    "    # Fem el mateix, però, en aquest cas, entre -1.5 i 1.5, de ny elements.\n",
    "    y = np.linspace(-1.5, 1.5, ny)\n",
    "\n",
    "    # Creem el pla de nombres complexos necessari per calcular el conjunt.\n",
    "    c = x[:,newaxis] + 1j*y[newaxis,:]\n",
    "\n",
    "    # Iteració per calcular el valor d'un element en la successió.\n",
    "    z = c\n",
    "    for j in range(N_max):\n",
    "        z = z**2 + c\n",
    "    \n",
    "    # Finalment, calculem si un element pertany o no al conjunt posant un límit 'threshold'.\n",
    "    conjunto = (abs(z) < threshold)\n",
    "    \n",
    "    return conjunto\n",
    "\n",
    "conjunto_mandelbrot = mandelbrot(50, 50., 601, 401)\n",
    "\n",
    "# Transposem els eixos del conjunt de Mandelbrot calculat utilitzant la funció de NumPy 'T' \n",
    "# Utilitzem la funció 'imshow' per representar una matriu com una imatge. L'argument 'cmap' significa \n",
    "# 'color map' i és l'escala de colors en què representarem la nostra imatge. Podeu trobar molts \n",
    "# altres mapes a la documentació oficial: \n",
    "# http://matplotlib.org/examples/color/colormaps_reference.html\n",
    "plt.imshow(conjunto_mandelbrot.T, cmap='Blues')\n",
    "\n",
    "plt.show()"
   ]
  }
 ],
 "metadata": {
  "kernelspec": {
   "display_name": "Python 3",
   "language": "python",
   "name": "python3"
  },
  "language_info": {
   "codemirror_mode": {
    "name": "ipython",
    "version": 3
   },
   "file_extension": ".py",
   "mimetype": "text/x-python",
   "name": "python",
   "nbconvert_exporter": "python",
   "pygments_lexer": "ipython3",
   "version": "3.5.2"
  }
 },
 "nbformat": 4,
 "nbformat_minor": 4
}

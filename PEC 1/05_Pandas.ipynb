{
 "cells": [
  {
   "cell_type": "markdown",
   "metadata": {},
   "source": [
    "05 Pandas\n",
    "============================\n",
    "\n",
    "Instruccions d'ús\n",
    "-----------------\n",
    "\n",
    "A continuació es presentaran explicacions i exemples d'ús de la\n",
    "llibreria pandas. Recordeu que podeu anar executant els exemples per\n",
    "obtenir-ne els resultats.\n",
    "\n",
    "Introducció\n",
    "-----------\n",
    "\n",
    "Pandas és una llibreria de Python que ens ofereix una interfície d'alt\n",
    "nivell per manipular i analitzar dades. Podeu trobar-ne la documentació\n",
    "completa al següent\n",
    "[enllaç](http://pandas.pydata.org/pandas-docs/stable/).\n",
    "\n",
    "### Primers passos\n",
    "\n",
    "Per poder utilitzar la llibreria, en primer lloc cal importar-la:"
   ]
  },
  {
   "cell_type": "code",
   "execution_count": null,
   "metadata": {
    "attributes": {
     "classes": [
      "sourceCode"
     ],
     "id": ""
    }
   },
   "outputs": [],
   "source": [
    "# A la línia següent, importem pandas i li donem un nom més curt \n",
    "# perquè ens sigui més còmode fer les crides.\n",
    "import pandas as pd\n",
    "# Importem també NumPy, ja que la farem servir en algun dels exemples.\n",
    "import numpy as np"
   ]
  },
  {
   "cell_type": "markdown",
   "metadata": {},
   "source": [
    "### Estructures de dades bàsiques\n",
    "\n",
    "Pandas proveeix de tres estructures de dades: la sèrie, el _dataframe_ i\n",
    "antigament el panell (ara, els _dataframes_ i les _sèries_ amb índexs multinivell). Vegem les característiques de cadascuna.\n",
    "\n",
    "Una **sèrie** és un vector **unidimensional** amb **etiquetes** als eixos i\n",
    "dades **homogènies**.\n",
    "\n",
    "Repassem què impliquen cadascuna d'aquestes característiques amb uns\n",
    "exemples.\n",
    "\n",
    "La sèrie ens permet representar un conjunt de dades unidimensionals,\n",
    "per exemple, una llista d'enters, decimals o de cadenes de caràcters:"
   ]
  },
  {
   "cell_type": "code",
   "execution_count": null,
   "metadata": {
    "attributes": {
     "classes": [
      "sourceCode"
     ],
     "id": ""
    }
   },
   "outputs": [],
   "source": [
    "print(pd.Series([1, 1, 2, 3, 5]))"
   ]
  },
  {
   "cell_type": "code",
   "execution_count": null,
   "metadata": {
    "attributes": {
     "classes": [
      "sourceCode"
     ],
     "id": ""
    }
   },
   "outputs": [],
   "source": [
    "print(pd.Series([1.5, 3.5, 4.75]))"
   ]
  },
  {
   "cell_type": "markdown",
   "metadata": {},
   "source": [
    "Les dades d'una sèrie han de ser homogènies, és a dir, han de ser del\n",
    "mateix tipus. Als exemples anteriors, la primera sèrie estava formada\n",
    "per enters (int64), mentre que la segona contenia nombres en punt flotant\n",
    "(float).\n",
    "\n",
    "De totes maneres, si intentem crear una sèrie amb dades de diferents\n",
    "tipus, podrem fer-ho, ja que pandas crearà una sèrie amb el tipus més\n",
    "general:"
   ]
  },
  {
   "cell_type": "code",
   "execution_count": null,
   "metadata": {
    "attributes": {
     "classes": [
      "sourceCode"
     ],
     "id": ""
    }
   },
   "outputs": [],
   "source": [
    "# Barregem enters i 'floats', la sèrie és de tipus 'float'.\n",
    "print(pd.Series([1, 2, 3.5]))"
   ]
  },
  {
   "cell_type": "code",
   "execution_count": null,
   "metadata": {
    "attributes": {
     "classes": [
      "sourceCode"
     ],
     "id": ""
    }
   },
   "outputs": [],
   "source": [
    "# Barregem enters, 'floats' i 'strings', la sèrie és de tipus 'object'.\n",
    "print(pd.Series([1, 4.3, \"data\"]))"
   ]
  },
  {
   "cell_type": "markdown",
   "metadata": {},
   "source": [
    "Finalment, la sèrie pot tenir etiquetes, de manera que podem accedir\n",
    "als elements d'una sèrie tant a partir del seu índex com de la seva\n",
    "etiqueta."
   ]
  },
  {
   "cell_type": "code",
   "execution_count": null,
   "metadata": {
    "attributes": {
     "classes": [
      "sourceCode"
     ],
     "id": ""
    }
   },
   "outputs": [],
   "source": [
    "# Creem una sèrie etiquetada a partir d'un diccionari.\n",
    "s = pd.Series({\"alice\" : 2, \"bob\": 3, \"eve\": 5})\n",
    "print(s)\n",
    "\n",
    "# Accedim als elements de la sèrie a partir de la seva etiqueta.\n",
    "print(s[\"alice\"])\n",
    "\n",
    "# Accedim als elements de la sèrie a partir del seu índex.\n",
    "print(s[0])"
   ]
  },
  {
   "cell_type": "code",
   "execution_count": null,
   "metadata": {
    "attributes": {
     "classes": [
      "sourceCode"
     ],
     "id": ""
    }
   },
   "outputs": [],
   "source": [
    "# Creem una sèrie etiquetada a partir de dos vectors, un amb les dades i un altre amb les etiquetes.\n",
    "print(pd.Series([2, 3, 5], index = [\"alice\", \"bob\", \"eve\"]))"
   ]
  },
  {
   "cell_type": "markdown",
   "metadata": {},
   "source": [
    "La segona estructura de dades de pandas que presentarem és el _dataframe_.\n",
    "\n",
    "Un _**dataframe**_ és una taula **bidimensional** amb **etiquetes** als eixos\n",
    "i dades potencialment **heterogènies**. El _dataframe_ és l' estructura\n",
    "principal de treball amb la llibreria pandas.\n",
    "\n",
    "Vegem les característiques principals d'un _dataframe_ amb alguns\n",
    "exemples.\n",
    "\n",
    "A diferència d'una sèrie, un _dataframe_ és bidimensional:"
   ]
  },
  {
   "cell_type": "code",
   "execution_count": null,
   "metadata": {
    "attributes": {
     "classes": [
      "sourceCode"
     ],
     "id": ""
    }
   },
   "outputs": [],
   "source": [
    "print(pd.DataFrame([[1, 2, 3], [4, 5, 6]]))"
   ]
  },
  {
   "cell_type": "markdown",
   "metadata": {},
   "source": [
    "Igual que la sèrie, el _dataframe_ pot tenir etiquetes als eixos i podem\n",
    "utilitzar diferents sintaxis per incloure les etiquetes al _dataframe_."
   ]
  },
  {
   "cell_type": "code",
   "execution_count": null,
   "metadata": {
    "attributes": {
     "classes": [
      "sourceCode"
     ],
     "id": ""
    }
   },
   "outputs": [],
   "source": [
    "# Fem servir un diccionari per definir cada columna i una llista per indicar les etiquetes de les files.\n",
    "d = {\"alice\" : [1953, 12, 3], \"bob\" : [1955, 11, 24], \"eve\" : [2011, 10, 10]}\n",
    "print(pd.DataFrame(d, index=[\"year\", \"month\", \"day\"]))"
   ]
  },
  {
   "cell_type": "code",
   "execution_count": null,
   "metadata": {
    "attributes": {
     "classes": [
      "sourceCode"
     ],
     "id": ""
    }
   },
   "outputs": [],
   "source": [
    "# Fem servir una llista de llistes per a introduir les dades i dues llistes addicionals \n",
    "# per a indicar les etiquetes de files i les columnes.\n",
    "a = [[1953, 12, 3], [1955, 11, 24], [2011, 10, 10]]\n",
    "print(pd.DataFrame(a, columns=[\"year\", \"month\", \"day\"], index = [\"alice\", \"bob\", \"eve\"]))"
   ]
  },
  {
   "cell_type": "markdown",
   "metadata": {},
   "source": [
    "Cadascuna de les columnes d'un _dataframe_ pot tenir tipus de dades\n",
    "diferents, donant lloc a _dataframes_ heterogenis:"
   ]
  },
  {
   "cell_type": "code",
   "execution_count": null,
   "metadata": {
    "attributes": {
     "classes": [
      "sourceCode"
     ],
     "id": ""
    }
   },
   "outputs": [],
   "source": [
    "a = [[1953, \"computer science\", 3.5], [1955, \"archeology\", 3.8], [2011, \"biology\", 2.8]]\n",
    "print(pd.DataFrame(a, columns=[\"year\", \"major\", \"average grade\"], index = [\"alice\", \"bob\", \"eve\"]))"
   ]
  },
  {
   "cell_type": "markdown",
   "metadata": {},
   "source": [
    "En versions anteriors de pandas, disposàvem del panell com a tercera estructura de dades. Un **panell** és una estructura de dades **tridimensional** que pot contenir **etiquetes** als eixos i pot ser **heterogènia**.\n",
    "\n",
    "Actualment, l'ús dels panells està discontinuat, i fem servir sèries i _dataframes_ amb índexs multinivell per tal de representar estructures de dades de més de dues dimensions.\n",
    "\n",
    "Vegem un exemple senzill d'ús d'índexs multinivell per a representar una\n",
    "imatge."
   ]
  },
  {
   "cell_type": "code",
   "execution_count": null,
   "metadata": {},
   "outputs": [],
   "source": [
    "img = [[[0, 0, 0], [0, 15, 0], [0, 0, 15], [15, 0, 0], [180, 180, 180]],\n",
    "       [[200, 200, 200], [125, 1, 125], [100, 100, 2], [1, 152, 125], [15, 25, 20]]]\n",
    "\n",
    "# Fem servir números per indexar les files i les columnes, i les lletres \n",
    "# \"R\", \"G\", \"B\" per indicar el contingut d'aquest color en cada píxel\n",
    "index = pd.MultiIndex.from_product(\n",
    "    [range(len(img)), range(len(img[0])), [\"R\", \"G\", \"B\"]], \n",
    "    names=['row', 'column', 'color'])\n",
    "\n",
    "# Creem la sèrie amb l'índex multidimensional especificant les dades\n",
    "# i els índex\n",
    "s = pd.Series([x for row in img for col in row for x in col], \n",
    "               index=index)\n",
    "s"
   ]
  },
  {
   "cell_type": "markdown",
   "metadata": {},
   "source": [
    "Visualitzem gràficament la imatge per entendre millor la representació\n",
    "escollida. La imatge té dues files i cinc columnes i per a cada píxel utilitzem\n",
    "tres valors numèrics per representar-ne el color."
   ]
  },
  {
   "cell_type": "code",
   "execution_count": null,
   "metadata": {
    "attributes": {
     "classes": [
      "sourceCode"
     ],
     "id": ""
    }
   },
   "outputs": [],
   "source": [
    "%pylab inline\n",
    "from pylab import imshow\n",
    "imshow(array(img, dtype=uint16), interpolation='nearest')"
   ]
  },
  {
   "cell_type": "markdown",
   "metadata": {},
   "source": [
    "Operacions bàsiques sobre un _dataframe_\n",
    "--------------------------------------\n",
    "\n",
    "El _dataframe_ és l'estructura més usada a pandas. Vegem algunes de les\n",
    "operacions que podem realitzar amb aquest.\n",
    "\n",
    "### Lectura de dades d'un fitxer\n",
    "\n",
    "Pandas ens permet carregar les dades d'un fitxer CSV directament a un\n",
    "_dataframe_ a través de la funció `read_csv`. Aquesta funció és molt\n",
    "versàtil i disposa de multitud de paràmetres per configurar amb tot\n",
    "detall com dur a terme la importació. En molts casos, la configuració\n",
    "per defecte ja ens oferirà els resultats desitjats.\n",
    "\n",
    "Ara carregarem les dades del fitxer `marvel-wikia-data.csv`, que conté\n",
    "dades sobre personatges de còmic de Marvel. El conjunt de dades va ser\n",
    "creat pel web [FiveThirtyEight](https://fivethirtyeight.com/), que\n",
    "escriu articles basats en dades sobre esports i notícies, i que posa a\n",
    "disposició pública els [conjunts de\n",
    "dades](https://github.com/fivethirtyeight/data) que recull per als seus\n",
    "articles."
   ]
  },
  {
   "cell_type": "code",
   "execution_count": null,
   "metadata": {
    "attributes": {
     "classes": [
      "sourceCode"
     ],
     "id": ""
    }
   },
   "outputs": [],
   "source": [
    "# Carreguem les dades del fitxer \"marvel-wikia-data.csv\" a un 'dataframe'.\n",
    "data = pd.read_csv(\"data/marvel-wikia-data.csv\")\n",
    "print(type(data))"
   ]
  },
  {
   "cell_type": "markdown",
   "metadata": {},
   "source": [
    "### Exploració del _dataframe_\n",
    "\n",
    "Vegem algunes funcions que ens permeten explorar el _dataframe_ que acabem\n",
    "de carregar."
   ]
  },
  {
   "cell_type": "code",
   "execution_count": null,
   "metadata": {
    "attributes": {
     "classes": [
      "sourceCode"
     ],
     "id": ""
    }
   },
   "outputs": [],
   "source": [
    "# Mostrar les 3 primeres files.\n",
    "data.head(n=3)"
   ]
  },
  {
   "cell_type": "code",
   "execution_count": null,
   "metadata": {
    "attributes": {
     "classes": [
      "sourceCode"
     ],
     "id": ""
    }
   },
   "outputs": [],
   "source": [
    "# Mostrar les etiquetes.\n",
    "data.index"
   ]
  },
  {
   "cell_type": "code",
   "execution_count": null,
   "metadata": {
    "attributes": {
     "classes": [
      "sourceCode"
     ],
     "id": ""
    }
   },
   "outputs": [],
   "source": [
    "# Mostra estadístiques bàsiques de les columnes numèriques del 'dataframe'.\n",
    "data.describe()"
   ]
  },
  {
   "cell_type": "markdown",
   "metadata": {},
   "source": [
    "### Indexació i selecció de dades\n",
    "\n",
    "Podem utilitzar les expressions habituals de Python (i NumPy) per\n",
    "seleccionar dades de _dataframes_ o bé fer servir els operadors propis de\n",
    "pandas. Aquests últims estan optimitzats, per la qual cosa el seu ús és\n",
    "recomanat per treballar amb conjunts de dades grans o en situacions en què\n",
    "l'eficiència sigui crítica."
   ]
  },
  {
   "cell_type": "code",
   "execution_count": null,
   "metadata": {
    "attributes": {
     "classes": [
      "sourceCode"
     ],
     "id": ""
    }
   },
   "outputs": [],
   "source": [
    "# Seleccionem els noms dels deu primers personatges, és a dir, mostrem la columna \"name\" de les deu primeres files\n",
    "# fent servir expressions Python.\n",
    "data[\"name\"][0:10]"
   ]
  },
  {
   "cell_type": "code",
   "execution_count": null,
   "metadata": {
    "attributes": {
     "classes": [
      "sourceCode"
     ],
     "id": ""
    }
   },
   "outputs": [],
   "source": [
    "# Seleccionem el nom, l'estat de la seva identitat i el color de cabell dels superherois 3 i 8\n",
    "# amb l'operador d'accés de pandas .loc\n",
    "data.loc[[3,8], [\"name\", \"ID\", \"HAIR\"]]"
   ]
  },
  {
   "cell_type": "code",
   "execution_count": null,
   "metadata": {
    "attributes": {
     "classes": [
      "sourceCode"
     ],
     "id": ""
    }
   },
   "outputs": [],
   "source": [
    "# Seleccionem files segons el gènere del superheroi utilitzant operadors binaris i expressions Python.\n",
    "male = data[data.SEX == \"Male Characters\"]\n",
    "female = data[data.SEX == \"Female Characters\"]\n",
    "print(len(male))\n",
    "print(len(female))"
   ]
  },
  {
   "cell_type": "code",
   "execution_count": null,
   "metadata": {
    "attributes": {
     "classes": [
      "sourceCode"
     ],
     "id": ""
    }
   },
   "outputs": [],
   "source": [
    "# Combinem operadors binaris per seleccionar els superherois amb identitat secreta que han aparegut més\n",
    "# de dues mil vegades amb expressions Python.\n",
    "secret_and_popular1 = data[(data.APPEARANCES > 1000) & (data.ID == \"Secret Identity\")]\n",
    "print(len(secret_and_popular1))\n",
    "print(secret_and_popular1[\"name\"])"
   ]
  },
  {
   "cell_type": "code",
   "execution_count": null,
   "metadata": {
    "attributes": {
     "classes": [
      "sourceCode"
     ],
     "id": ""
    }
   },
   "outputs": [],
   "source": [
    "# Utilitzem el mètode 'where' de pandas per obtenir la mateixa informació:\n",
    "secret_and_popular2 = data.where ((data.APPEARANCES> 1000) & (data.ID == \"Secret Identity\"))\n",
    "# Fixeu-vos que en aquest cas el resultat té la mateixa mida que el 'dataframe original': els valors no seleccionats\n",
    "# mostren NaN.\n",
    "print(len(secret_and_popular2))\n",
    "print(secret_and_popular2[\"name\"][0:10])"
   ]
  },
  {
   "cell_type": "code",
   "execution_count": null,
   "metadata": {
    "attributes": {
     "classes": [
      "sourceCode"
     ],
     "id": ""
    }
   },
   "outputs": [],
   "source": [
    "# Podem eliminar les files que tinguin tots els valors NaN, de manera que obtindrem el mateix resultat que fent servir \n",
    "# operadors binaris.\n",
    "print(secret_and_popular2.dropna(how=\"all\")[\"name\"])"
   ]
  },
  {
   "cell_type": "markdown",
   "metadata": {},
   "source": [
    "### Agregació de dades\n",
    "\n",
    "Pandas també permet crear grups de dades a partir dels valors d' una o\n",
    "més columnes i després operar sobre els grups creats. Vegem alguns\n",
    "exemples."
   ]
  },
  {
   "cell_type": "code",
   "execution_count": null,
   "metadata": {
    "attributes": {
     "classes": [
      "sourceCode"
     ],
     "id": ""
    }
   },
   "outputs": [],
   "source": [
    "# Agrupem el 'dataframe' en funció de l'alineació del superheroi.\n",
    "grouped = data.groupby(\"ALIGN\")\n",
    "\n",
    "# Visualitzem el nom i el nombre de files de cada grup.\n",
    "for name, group in grouped:\n",
    "    print(name, len(group))"
   ]
  },
  {
   "cell_type": "code",
   "execution_count": null,
   "metadata": {
    "attributes": {
     "classes": [
      "sourceCode"
     ],
     "id": ""
    }
   },
   "outputs": [],
   "source": [
    "# Agrupem el 'dataframe' en funció de l'alineació del superheroi i de l'ocultació de la seva identitat.\n",
    "grouped = data.groupby([\"ALIGN\", \"ID\"])\n",
    "\n",
    "# Visualitzem el nom i el nombre de files de cada grup.\n",
    "for name, group in grouped:\n",
    "    print(name, len(group))"
   ]
  },
  {
   "cell_type": "code",
   "execution_count": null,
   "metadata": {
    "attributes": {
     "classes": [
      "sourceCode"
     ],
     "id": ""
    }
   },
   "outputs": [],
   "source": [
    "# A partir de les dades agrupades, apliquem la funció d'agregació 'np.mean' (que calcula la mitjana).\n",
    "grouped.aggregate(np.mean)"
   ]
  },
  {
   "cell_type": "code",
   "execution_count": null,
   "metadata": {
    "attributes": {
     "classes": [
      "sourceCode"
     ],
     "id": ""
    }
   },
   "outputs": [],
   "source": [
    "# Recuperem la informació d'un únic grup d'interès.\n",
    "grouped.get_group((\"Neutral Characters\", \"Known to Authorities Identity\"))"
   ]
  },
  {
   "cell_type": "markdown",
   "metadata": {},
   "source": [
    "### Escriptura de dades a un fitxer\n",
    "\n",
    "D'una manera anàloga a com hem carregat les dades d'un fitxer a un\n",
    "_dataframe_, podem escriure les dades d'un _dataframe_ a un fitxer CSV."
   ]
  },
  {
   "cell_type": "code",
   "execution_count": null,
   "metadata": {
    "attributes": {
     "classes": [
      "sourceCode"
     ],
     "id": ""
    }
   },
   "outputs": [],
   "source": [
    "# Creem un 'dataframe' amb els noms dels superherois.\n",
    "new_dataset = data[[\"name\"]]\n",
    "# Guardem el nou 'dataframe' a un fitxer, forçant la codificació a 'utf-8'.\n",
    "new_dataset.to_csv(\"marvel-wikia-data-reduced.csv\", encoding='utf-8')"
   ]
  }
 ],
 "metadata": {
  "kernelspec": {
   "display_name": "Python 3",
   "language": "python",
   "name": "python3"
  },
  "language_info": {
   "codemirror_mode": {
    "name": "ipython",
    "version": 3
   },
   "file_extension": ".py",
   "mimetype": "text/x-python",
   "name": "python",
   "nbconvert_exporter": "python",
   "pygments_lexer": "ipython3",
   "version": "3.5.2"
  }
 },
 "nbformat": 4,
 "nbformat_minor": 4
}

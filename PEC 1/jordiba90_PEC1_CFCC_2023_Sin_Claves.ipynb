{
 "cells": [
  {
   "cell_type": "markdown",
   "metadata": {},
   "source": [
    "## PEC1: VERSIÓN SIN CLAVES"
   ]
  },
  {
   "cell_type": "markdown",
   "metadata": {},
   "source": [
    "### Import de las librerías necesarias"
   ]
  },
  {
   "cell_type": "code",
   "execution_count": 1,
   "metadata": {},
   "outputs": [],
   "source": [
    "import pandas as pd\n",
    "import json\n",
    "import urllib\n",
    "import requests as rq\n",
    "import base64\n",
    "import glob\n",
    "import os"
   ]
  },
  {
   "cell_type": "markdown",
   "metadata": {},
   "source": [
    "### 1. Define una función para leer un fichero csv y que devuelva en dataframe (puedes utilizar la función predefinida de Pandas) (2 puntos)"
   ]
  },
  {
   "cell_type": "code",
   "execution_count": 2,
   "metadata": {},
   "outputs": [
    {
     "name": "stdout",
     "output_type": "stream",
     "text": [
      "\n",
      "    Lee un fichero csv y devuelva un dataframe\n",
      "\n",
      "    Input:\n",
      "        file:str\n",
      "\n",
      "    Output:\n",
      "        df: pandas.DataFrame\n",
      "    \n"
     ]
    }
   ],
   "source": [
    "# Definiremos una función incluyendo docstring explicativo\n",
    "\n",
    "def read_csv(file:str):\n",
    "\n",
    "    \"\"\"\n",
    "    Lee un fichero csv y devuelva un dataframe\n",
    "\n",
    "    Input:\n",
    "        file:str\n",
    "\n",
    "    Output:\n",
    "        df: pandas.DataFrame\n",
    "    \"\"\"\n",
    "\n",
    "    #<tu código aquí>\n",
    "    df = pd.read_csv(file)\n",
    "\n",
    "    return df\n",
    "\n",
    "docstring = read_csv.__doc__\n",
    "print(docstring)"
   ]
  },
  {
   "cell_type": "code",
   "execution_count": 3,
   "metadata": {},
   "outputs": [
    {
     "name": "stdout",
     "output_type": "stream",
     "text": [
      "Shapes: ((3500, 43), (68, 25), (2225, 40), (5400, 42), (4499, 42), (2266, 41), (1114, 40), (2114, 42))\n"
     ]
    }
   ],
   "source": [
    "#check 1: comprobamos encolumnado\n",
    "\n",
    "# print(df_1.describe())\n",
    "# print(df_1.sample())\n",
    "\n",
    "df_1 = read_csv(\"BBDD_PEC1/BBDD_1.csv\")\n",
    "df_2 = read_csv(\"BBDD_PEC1/BBDD_2.csv\")\n",
    "df_3 = read_csv(\"BBDD_PEC1/BBDD_3.csv\")\n",
    "df_4 = read_csv(\"BBDD_PEC1/BBDD_4.csv\")\n",
    "df_5 = read_csv(\"BBDD_PEC1/BBDD_5.csv\")\n",
    "df_6 = read_csv(\"BBDD_PEC1/BBDD_6.csv\")\n",
    "df_7 = read_csv(\"BBDD_PEC1/BBDD_7.csv\")\n",
    "df_8 = read_csv(\"BBDD_PEC1/BBDD_8.csv\")\n",
    "\n",
    "shapes = df_1.shape, df_2.shape, df_3.shape, df_4.shape, df_5.shape, df_6.shape, df_7.shape, df_8.shape\n",
    "print(\"Shapes:\", shapes)\n",
    "\n",
    "# df_1.filter(regex='^(?!Unnamed)').shape"
   ]
  },
  {
   "cell_type": "markdown",
   "metadata": {},
   "source": [
    "### 2. Se pide realizar la lectura de los n ficheros csv utilizando la función definida anteriormente. Se valorará utilizar expresiones regulares para que el código sea válido para leer n ficheros y devolver una lista de n dataframes. Recuerda que puedes utilizar bucles para hacerlo. (3 puntos)"
   ]
  },
  {
   "cell_type": "code",
   "execution_count": 4,
   "metadata": {},
   "outputs": [
    {
     "name": "stdout",
     "output_type": "stream",
     "text": [
      "BBDD_PEC1\\BBDD_1.csv (3500, 43)\n",
      "BBDD_PEC1\\BBDD_2.csv (68, 25)\n",
      "BBDD_PEC1\\BBDD_3.csv (2225, 40)\n",
      "BBDD_PEC1\\BBDD_4.csv (5400, 42)\n",
      "BBDD_PEC1\\BBDD_5.csv (4499, 42)\n",
      "BBDD_PEC1\\BBDD_6.csv (2266, 41)\n",
      "BBDD_PEC1\\BBDD_7.csv (1114, 40)\n",
      "BBDD_PEC1\\BBDD_8.csv (2114, 42)\n"
     ]
    }
   ],
   "source": [
    "# Utilizaremos rutas relativas en nuestro directorio de trabajo\n",
    "\n",
    "files = [os.path.join(\"BBDD_PEC1\", f) for f in os.listdir(\"BBDD_PEC1\") if f.endswith(\".csv\")]\n",
    "for file in files: print(file,read_csv(file).shape)"
   ]
  },
  {
   "cell_type": "markdown",
   "metadata": {},
   "source": [
    "### 3. Ahora debéis unificar los dataframes de la lista de dataframes para generar un dataset con todas las viviendas a analizar. (2.5 puntos)"
   ]
  },
  {
   "cell_type": "code",
   "execution_count": 5,
   "metadata": {},
   "outputs": [
    {
     "name": "stdout",
     "output_type": "stream",
     "text": [
      "(21186, 43)\n"
     ]
    }
   ],
   "source": [
    "df = []\n",
    "for file in files:df.append(pd.read_csv(file))\n",
    "df = pd.concat(df, sort=False, ignore_index=True)\n",
    "print(df.shape)"
   ]
  },
  {
   "cell_type": "code",
   "execution_count": 6,
   "metadata": {},
   "outputs": [],
   "source": [
    "#check 1: comparo columnas df_1 con df_2 > OK\n",
    "\n",
    "s1 = df_2.iloc[0,[2]].iloc[0]\n",
    "s2 = df.iloc[len(df_1),[3]].iloc[0]\n",
    "\n",
    "assert s1 == s2, \"error, columnas distintas\""
   ]
  },
  {
   "cell_type": "code",
   "execution_count": 7,
   "metadata": {},
   "outputs": [
    {
     "name": "stdout",
     "output_type": "stream",
     "text": [
      "BBDD_PEC1\\BBDD_1.csv 3500 2944\n",
      "BBDD_PEC1\\BBDD_2.csv 68 25\n",
      "BBDD_PEC1\\BBDD_3.csv 2225 318\n",
      "BBDD_PEC1\\BBDD_4.csv 5400 2355\n",
      "BBDD_PEC1\\BBDD_5.csv 4499 101\n",
      "BBDD_PEC1\\BBDD_6.csv 2266 1819\n",
      "BBDD_PEC1\\BBDD_7.csv 1114 1027\n",
      "BBDD_PEC1\\BBDD_8.csv 2114 2072\n"
     ]
    }
   ],
   "source": [
    "#check 2: comparo id \"propertyCode\" en df > REVISAR DATASETS\n",
    "\n",
    "for file in files: print(file, len(list(pd.read_csv(file).iloc[:,3])), len(set(pd.read_csv(file).iloc[:,3])))"
   ]
  },
  {
   "cell_type": "markdown",
   "metadata": {},
   "source": [
    "### 4. Por último vamos a exportar los datos a un fichero csv para poder almacenarlos y no perderlos al final de la ejecución. (1.5 puntos)"
   ]
  },
  {
   "cell_type": "code",
   "execution_count": 8,
   "metadata": {},
   "outputs": [],
   "source": [
    "df.to_csv(\"jordiba90_BBDD.csv\", index=False)"
   ]
  }
 ],
 "metadata": {
  "kernelspec": {
   "display_name": "Python 3",
   "language": "python",
   "name": "python3"
  },
  "language_info": {
   "codemirror_mode": {
    "name": "ipython",
    "version": 3
   },
   "file_extension": ".py",
   "mimetype": "text/x-python",
   "name": "python",
   "nbconvert_exporter": "python",
   "pygments_lexer": "ipython3",
   "version": "3.11.3"
  }
 },
 "nbformat": 4,
 "nbformat_minor": 4
}

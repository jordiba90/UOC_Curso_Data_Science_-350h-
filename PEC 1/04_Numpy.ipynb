{
 "cells": [
  {
   "cell_type": "markdown",
   "metadata": {},
   "source": [
    "04 NumPy\n",
    "============================\n",
    "\n",
    "Instruccions d'ús\n",
    "-----------------\n",
    "\n",
    "A continuació es presentaran explicacions i exemples d'ús de la\n",
    "llibreria NumPy. Recordeu que podeu anar executant els exemples per\n",
    "obtenir-ne els resultats.\n",
    "\n",
    "Primers passos\n",
    "--------------\n",
    "\n",
    "Importarem la llibreria:"
   ]
  },
  {
   "cell_type": "code",
   "execution_count": null,
   "metadata": {
    "attributes": {
     "classes": [
      "sourceCode"
     ],
     "id": ""
    }
   },
   "outputs": [],
   "source": [
    "# A la línia següent, importem NumPy i li donem un nom més curt \n",
    "# perquè ens sigui més còmode fer les crides\n",
    "import numpy as np"
   ]
  },
  {
   "cell_type": "markdown",
   "metadata": {},
   "source": [
    "A NumPy, l'objecte bàsic és una llista multidimensional de\n",
    "nombres (normalment) del mateix tipus."
   ]
  },
  {
   "cell_type": "code",
   "execution_count": null,
   "metadata": {
    "attributes": {
     "classes": [
      "sourceCode"
     ],
     "id": ""
    }
   },
   "outputs": [],
   "source": [
    "# Exemple bàsic, un punt a l'espai:\n",
    "p = np.array([1, 2, 3])"
   ]
  },
  {
   "cell_type": "markdown",
   "metadata": {},
   "source": [
    "A NumPy, a les dimensions se les coneix amb el nom d'eixos (*axes*), i\n",
    "al nombre d'eixos, rang (*rank*). *Array* és un àlies per referir-se al\n",
    "tipus d'objecte *numpy.ndarray*.\n",
    "\n",
    "Algunes propietats importants dels _arrays_ són les següents: \n",
    "* **ndarray.ndim**: el nombre d'eixos de l'objecte _array_ (matriu).\n",
    "* **ndarray.shape**: una tupla de nombres enters indicant la longitud de\n",
    "les dimensions de la matriu.\n",
    "* **ndarray.size**: el nombre total d'elements de la matriu."
   ]
  },
  {
   "cell_type": "code",
   "execution_count": null,
   "metadata": {
    "attributes": {
     "classes": [
      "sourceCode"
     ],
     "id": ""
    }
   },
   "outputs": [],
   "source": [
    "# Crearem una matriu bidimensional 3x2 (tres files, dues columnes).\n",
    "a = np.arange(3*2) # Creem un array unidimensional de sis elements\n",
    "print('Array unidimensional:')\n",
    "print(a)\n",
    "a = a.reshape(3,2) # Li donem \"forma\" de matrix 3x2.\n",
    "print('Matriu 3x2:')\n",
    "print(a)"
   ]
  },
  {
   "cell_type": "code",
   "execution_count": null,
   "metadata": {
    "attributes": {
     "classes": [
      "sourceCode"
     ],
     "id": ""
    }
   },
   "outputs": [],
   "source": [
    "# La dimensió és 2.\n",
    "a.ndim"
   ]
  },
  {
   "cell_type": "code",
   "execution_count": null,
   "metadata": {
    "attributes": {
     "classes": [
      "sourceCode"
     ],
     "id": ""
    }
   },
   "outputs": [],
   "source": [
    "# Longitud de les dimensions.\n",
    "a.shape"
   ]
  },
  {
   "cell_type": "code",
   "execution_count": null,
   "metadata": {
    "attributes": {
     "classes": [
      "sourceCode"
     ],
     "id": ""
    }
   },
   "outputs": [],
   "source": [
    "# El nombre total d'elements:\n",
    "a.size"
   ]
  },
  {
   "cell_type": "markdown",
   "metadata": {},
   "source": [
    "A l'hora de crear _arrays_, tenim diferents opcions:"
   ]
  },
  {
   "cell_type": "code",
   "execution_count": null,
   "metadata": {
    "attributes": {
     "classes": [
      "sourceCode"
     ],
     "id": ""
    }
   },
   "outputs": [],
   "source": [
    "# Creem un array (vector) de deu elements:\n",
    "z = np.zeros(10)\n",
    "print(z)"
   ]
  },
  {
   "cell_type": "code",
   "execution_count": null,
   "metadata": {
    "attributes": {
     "classes": [
      "sourceCode"
     ],
     "id": ""
    }
   },
   "outputs": [],
   "source": [
    "# Podem canviar qualsevol dels valors d'aquest vector accedint a la seva posició:\n",
    "z[4] = 5.0\n",
    "z[-1] = 0.1\n",
    "print(z)"
   ]
  },
  {
   "cell_type": "code",
   "execution_count": null,
   "metadata": {
    "attributes": {
     "classes": [
      "sourceCode"
     ],
     "id": ""
    }
   },
   "outputs": [],
   "source": [
    "# La funció 'arange' ens permet definir diferents opcions, com el punt d'inici i el de final:\n",
    "a = np.arange(10,20)\n",
    "print(a)"
   ]
  },
  {
   "cell_type": "code",
   "execution_count": null,
   "metadata": {
    "attributes": {
     "classes": [
      "sourceCode"
     ],
     "id": ""
    }
   },
   "outputs": [],
   "source": [
    "# L'últim argument ens permet utilitzar un pas de 2:\n",
    "a = np.arange(10,20,2)\n",
    "print(a)"
   ]
  },
  {
   "cell_type": "code",
   "execution_count": null,
   "metadata": {
    "attributes": {
     "classes": [
      "sourceCode"
     ],
     "id": ""
    }
   },
   "outputs": [],
   "source": [
    "# Podem crear arrays des de llistes de Python de diverses dimensions:\n",
    "a = np.array([[1, 2, 3], [4, 5, 6]])\n",
    "print(a)"
   ]
  },
  {
   "cell_type": "markdown",
   "metadata": {},
   "source": [
    "Operacions amb matrius\n",
    "----------------------\n",
    "\n",
    "NumPy implementa totes les operacions habituals amb matrius."
   ]
  },
  {
   "cell_type": "code",
   "execution_count": null,
   "metadata": {
    "attributes": {
     "classes": [
      "sourceCode"
     ],
     "id": ""
    }
   },
   "outputs": [],
   "source": [
    "A = np.array([[1,0], [0,1]])\n",
    "B = np.array([[1,2], [3,4]])"
   ]
  },
  {
   "cell_type": "code",
   "execution_count": null,
   "metadata": {
    "attributes": {
     "classes": [
      "sourceCode"
     ],
     "id": ""
    }
   },
   "outputs": [],
   "source": [
    "# Suma de matrius\n",
    "print(A+B)"
   ]
  },
  {
   "cell_type": "code",
   "execution_count": null,
   "metadata": {
    "attributes": {
     "classes": [
      "sourceCode"
     ],
     "id": ""
    }
   },
   "outputs": [],
   "source": [
    "# Resta de matrius\n",
    "print(A-B)"
   ]
  },
  {
   "cell_type": "code",
   "execution_count": null,
   "metadata": {
    "attributes": {
     "classes": [
      "sourceCode"
     ],
     "id": ""
    }
   },
   "outputs": [],
   "source": [
    "# Multiplicació element per element\n",
    "print(A*B)"
   ]
  },
  {
   "cell_type": "code",
   "execution_count": null,
   "metadata": {
    "attributes": {
     "classes": [
      "sourceCode"
     ],
     "id": ""
    }
   },
   "outputs": [],
   "source": [
    "# Multiplicació de matrius\n",
    "print(A.dot(B))"
   ]
  },
  {
   "cell_type": "code",
   "execution_count": null,
   "metadata": {
    "attributes": {
     "classes": [
      "sourceCode"
     ],
     "id": ""
    }
   },
   "outputs": [],
   "source": [
    "# Potència\n",
    "print(B**2)"
   ]
  },
  {
   "cell_type": "markdown",
   "metadata": {},
   "source": [
    "*Slicing* i iteració\n",
    "--------------------\n",
    "\n",
    "Els _arrays_ en NumPy suporten la tècnica de *slicing* de Python:"
   ]
  },
  {
   "cell_type": "code",
   "execution_count": null,
   "metadata": {
    "attributes": {
     "classes": [
      "sourceCode"
     ],
     "id": ""
    }
   },
   "outputs": [],
   "source": [
    "# Definim un array de 0 a 9.\n",
    "a = np.arange(10)\n",
    "# Obtenim els 5-2 elements des de la posició 3 de l'array (els índexs comencen a 0).\n",
    "print(a[2:5])"
   ]
  },
  {
   "cell_type": "code",
   "execution_count": null,
   "metadata": {
    "attributes": {
     "classes": [
      "sourceCode"
     ],
     "id": ""
    }
   },
   "outputs": [],
   "source": [
    "# Tots els elements a partir de la tercera posició:\n",
    "a[2:]"
   ]
  },
  {
   "cell_type": "code",
   "execution_count": null,
   "metadata": {
    "attributes": {
     "classes": [
      "sourceCode"
     ],
     "id": ""
    }
   },
   "outputs": [],
   "source": [
    "# Podem iterar per cada element de l'array:\n",
    "for i in a:\n",
    "    print(i)"
   ]
  },
  {
   "cell_type": "code",
   "execution_count": null,
   "metadata": {
    "attributes": {
     "classes": [
      "sourceCode"
     ],
     "id": ""
    }
   },
   "outputs": [],
   "source": [
    "# Ara definim un array multidimensional.\n",
    "A = np.arange(18).reshape(6,3)\n",
    "print(A)"
   ]
  },
  {
   "cell_type": "code",
   "execution_count": null,
   "metadata": {
    "attributes": {
     "classes": [
      "sourceCode"
     ],
     "id": ""
    }
   },
   "outputs": [],
   "source": [
    "# Obtenim fins a la cinquena fila.\n",
    "print(A[:5])"
   ]
  },
  {
   "cell_type": "code",
   "execution_count": null,
   "metadata": {
    "attributes": {
     "classes": [
      "sourceCode"
     ],
     "id": ""
    }
   },
   "outputs": [],
   "source": [
    "# Igualem tots els elements a 0 (l'operador ... afegeix tots els : necessaris).\n",
    "A[...] = 0\n",
    "print(A)"
   ]
  },
  {
   "cell_type": "markdown",
   "metadata": {},
   "source": [
    "Exemple: el joc de la vida de Conway\n",
    "------------------------------------\n",
    "\n",
    "El joc de la vida és un exemple clàssic d'autòmat cel·lular creat el\n",
    "1970 pel famós matemàtic John H. Conway. Al problema clàssic, es\n",
    "representen en una matriu bidimensional cèl·lules que viuran o moriran\n",
    "depenent del nombre de veïns en un determinat pas de la simulació. Cada\n",
    "cèl·lula té vuit veïns (les caselles adjacents en un tauler bidimensional)\n",
    "i pot estar viva (1) o morta (0). Les regles clàssiques entre transició\n",
    "vida/mort són les següents:\n",
    "\n",
    "* Una cèl·lula morta amb exactament tres cèl·lules veïnes vives al torn següent estarà viva.\n",
    "* Una cèl·lula viva amb dues o tres cèl·lules veïnes vives segueix viva, en un altre cas mor o roman morta (solitud en cas d'un número més petit que 2, superpoblació si és major a 3).\n",
    "\n",
    "Aquest problema (o joc) té moltes variants depenent de les condicions\n",
    "inicials, si el tauler (o món) té vores o no, o si bé les regles de vida\n",
    "o mort són alterades.\n",
    "\n",
    "A continuació teniu un exemple del joc clàssic implementat a NumPy:"
   ]
  },
  {
   "cell_type": "code",
   "execution_count": null,
   "metadata": {},
   "outputs": [],
   "source": [
    "# Autor: Nicolas Rougier\n",
    "# Font: http://www.labri.fr/perso/nrougier/teaching/numpy.100/\n",
    "\n",
    "SIZE = 10\n",
    "STEPS = 10\n",
    "\n",
    "def iterate(Z):\n",
    "    # Comptem veïns:\n",
    "    N = (Z[0:-2,0:-2] + Z[0:-2,1:-1] + Z[0:-2,2:] +\n",
    "         Z[1:-1,0:-2]                + Z[1:-1,2:] +\n",
    "         Z[2:  ,0:-2] + Z[2:  ,1:-1] + Z[2:  ,2:])\n",
    "\n",
    "    # Apliquem les regles:\n",
    "    birth = (N==3) & (Z[1:-1,1:-1]==0)\n",
    "    survive = ((N==2) | (N==3)) & (Z[1:-1,1:-1]==1)\n",
    "    Z[...] = 0\n",
    "    Z[1:-1,1:-1][birth | survive] = 1\n",
    "    return Z\n",
    "\n",
    "#Creem un tauler amb cèl·lules vives o mortes de manera aleatòria.\n",
    "Z = np.random.randint(0,2,(SIZE, SIZE))\n",
    "# Simulem durant els passos indicats:\n",
    "for i in range(STEPS):\n",
    "    Z = iterate(Z)\n",
    "# Mostrem el tauler en el pas final:\n",
    "print(Z)"
   ]
  }
 ],
 "metadata": {
  "kernelspec": {
   "display_name": "Python 3",
   "language": "python",
   "name": "python3"
  },
  "language_info": {
   "codemirror_mode": {
    "name": "ipython",
    "version": 3
   },
   "file_extension": ".py",
   "mimetype": "text/x-python",
   "name": "python",
   "nbconvert_exporter": "python",
   "pygments_lexer": "ipython3",
   "version": "3.5.2"
  }
 },
 "nbformat": 4,
 "nbformat_minor": 4
}

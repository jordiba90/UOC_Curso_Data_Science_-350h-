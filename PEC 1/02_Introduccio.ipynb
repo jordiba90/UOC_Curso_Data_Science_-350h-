{
 "cells": [
  {
   "cell_type": "markdown",
   "metadata": {},
   "source": [
    "02 Introducció a Python\n",
    "============================\n",
    "\n",
    "### Instruccions d'ús\n",
    "\n",
    "Al mòdul anterior hem introduït conceptes bàsics sobre variables i el seu ús\n",
    "en Python. En aquest mòdul estudiarem conceptes més avançats com les\n",
    "instruccions de flux d'execució (_for_, _while_, _if_), com definir i\n",
    "utilitzar funcions, com llegir i escriure fitxers i com organitzar el\n",
    "codi.\n",
    "\n",
    "Iteració i operacions lògiques\n",
    "------------------------------\n",
    "\n",
    "En la majoria de casos haurem de manipular les nostres dades, i\n",
    "per fer-ho utilitzarem els conceptes d'iteració i les operacions\n",
    "lògiques. Les operacions lògiques ens permeten comparar valors entre\n",
    "variables (més gran, més petit, igualtat), i la iteració, anar visitant un a un\n",
    "els elements d'una llista, tupla, diccionari o qualsevol estructura de\n",
    "dades que sigui susceptible de seqüenciar-se."
   ]
  },
  {
   "cell_type": "code",
   "execution_count": null,
   "metadata": {
    "attributes": {
     "classes": [
      "sourceCode"
     ],
     "id": ""
    }
   },
   "outputs": [],
   "source": [
    "# Les operacions lògiques tindran com a resultat un valor cert (True) o fals (False):\n",
    "\n",
    "a = 5\n",
    "b = 1\n",
    "\n",
    "# El valor a és més gran que b?\n",
    "print(a > b)"
   ]
  },
  {
   "cell_type": "code",
   "execution_count": null,
   "metadata": {
    "attributes": {
     "classes": [
      "sourceCode"
     ],
     "id": ""
    }
   },
   "outputs": [],
   "source": [
    "# El valor a és més petit que b?\n",
    "print(a < b)"
   ]
  },
  {
   "cell_type": "code",
   "execution_count": null,
   "metadata": {
    "attributes": {
     "classes": [
      "sourceCode"
     ],
     "id": ""
    }
   },
   "outputs": [],
   "source": [
    "b = 5\n",
    "# El valor de b és igual que el d'a?\n",
    "print(b == a)"
   ]
  },
  {
   "cell_type": "code",
   "execution_count": null,
   "metadata": {
    "attributes": {
     "classes": [
      "sourceCode"
     ],
     "id": ""
    }
   },
   "outputs": [],
   "source": [
    "# Altres operadors lògics disponibles són més petit o igual '<=', més gran o igual '> =' \n",
    "# o la negació 'not'\n",
    "print(a <= b)\n",
    "print(a >= b)\n",
    "\n",
    "a = False\n",
    "print(not a)"
   ]
  },
  {
   "cell_type": "markdown",
   "metadata": {},
   "source": [
    "També podem alterar el flux d'execució del nostre programa utilitzant\n",
    "les estructures *if... else* o *if... elif... else*. Vegem-ne uns quants\n",
    "exemples:"
   ]
  },
  {
   "cell_type": "code",
   "execution_count": null,
   "metadata": {
    "attributes": {
     "classes": [
      "sourceCode"
     ],
     "id": ""
    }
   },
   "outputs": [],
   "source": [
    "a = 5\n",
    "b = 6\n",
    "if a > b:\n",
    "    print('a és major que b')\n",
    "else:\n",
    "    print('a és menor o igual que b')"
   ]
  },
  {
   "cell_type": "code",
   "execution_count": null,
   "metadata": {
    "attributes": {
     "classes": [
      "sourceCode"
     ],
     "id": ""
    }
   },
   "outputs": [],
   "source": [
    "a = 5\n",
    "b = 5\n",
    "if a > b:\n",
    "    print('a és major que b')\n",
    "elif a < b:\n",
    "    print('a és menor que b')\n",
    "else:\n",
    "    print('a és igual a b')"
   ]
  },
  {
   "cell_type": "markdown",
   "metadata": {},
   "source": [
    "En Python hi només dues maneres d'iterar una seqüència: mitjançant\n",
    "_**for**_ o mitjançant _**while**_. La primera de les opcions, *for*,\n",
    "iterarà un per un els elements continguts en una llista. En el cas de\n",
    "*while*, iteraremos mentre la condició de permanència al bucle es\n",
    "compleixi. Vegem-ne uns exemples:"
   ]
  },
  {
   "cell_type": "code",
   "execution_count": null,
   "metadata": {
    "attributes": {
     "classes": [
      "sourceCode"
     ],
     "id": ""
    }
   },
   "outputs": [],
   "source": [
    "monsters = ['Kraken', 'Leviathan', 'Uroborus', 'Hydra']\n",
    "\n",
    "# Primer mètode iterant mitjançant for:\n",
    "for monster in monsters:\n",
    "    print(monster)\n",
    "\n",
    "print\n",
    "\n",
    "# Segon mètode. La funció especial 'enumerate' ens retorna una tupla en què el primer element és un \n",
    "# índex que comença per 0 i augmenta d'1 a 1 i el segon element és el valor de la posició a la llista:\n",
    "for i, monster in enumerate(monsters):\n",
    "    print(i, monster)"
   ]
  },
  {
   "cell_type": "code",
   "execution_count": null,
   "metadata": {
    "attributes": {
     "classes": [
      "sourceCode"
     ],
     "id": ""
    }
   },
   "outputs": [],
   "source": [
    "# També podríem iterar la llista mitjançant while, però és una manera molt menys idiomàtica en Python \n",
    "# i preferirem sempre l'opció de for:\n",
    "i = 0\n",
    "# Mentre que l'índex 'i' sigui més petit que la longitud de la llista 'monsters':\n",
    "while i < len(monsters):\n",
    "    # Imprimeix el valor de la llista en la posició 'i'.\n",
    "    print(i, monsters[i])\n",
    "    # No ens oblidem d'actualitzar el valor de 'i' sumant-li 1 o tindrem un bucle infinit.\n",
    "    i += 1"
   ]
  },
  {
   "cell_type": "markdown",
   "metadata": {},
   "source": [
    "En aquest moment seríem capaços de calcular la sèrie de Fibonacci fins a\n",
    "un determinat valor:"
   ]
  },
  {
   "cell_type": "code",
   "execution_count": null,
   "metadata": {
    "attributes": {
     "classes": [
      "sourceCode"
     ],
     "id": ""
    }
   },
   "outputs": [],
   "source": [
    "# Calculem el valor de la sèrie fins a un valor n = 100.\n",
    "n = 100\n",
    "\n",
    "a, b = 0, 1\n",
    "while a < n:\n",
    "    print(a, end =\" \")\n",
    "    a, b = b, a+b"
   ]
  },
  {
   "cell_type": "markdown",
   "metadata": {},
   "source": [
    "A Python disposem d'una funció molt útil per generar una seqüència de\n",
    "nombres, que podem utilitzar de diferents maneres:"
   ]
  },
  {
   "cell_type": "code",
   "execution_count": null,
   "metadata": {
    "attributes": {
     "classes": [
      "sourceCode"
     ],
     "id": ""
    }
   },
   "outputs": [],
   "source": [
    "# La funció 'range' ens retorna una llista de nombres:\n",
    "list(range(10))"
   ]
  },
  {
   "cell_type": "markdown",
   "metadata": {},
   "source": [
    "Fixeu-vos que `range` no torna directament una llista, sinó que retorna un tipus propi del mateix nom. Per aquest motiu, per obtenir una llista cal fer una conversió de tipus utilitzant `list()`. Això és una novetat en Python 3, ja que en Python 2 la funció `range` retornava una llista."
   ]
  },
  {
   "cell_type": "code",
   "execution_count": null,
   "metadata": {},
   "outputs": [],
   "source": [
    "# Visualitzem el tipus de retorn de range\n",
    "print(type(range(10)))\n",
    "print(type(list(range(10))))"
   ]
  },
  {
   "cell_type": "markdown",
   "metadata": {},
   "source": [
    "Vegem alguns dels usos més habituals de `range`:"
   ]
  },
  {
   "cell_type": "code",
   "execution_count": null,
   "metadata": {
    "attributes": {
     "classes": [
      "sourceCode"
     ],
     "id": ""
    }
   },
   "outputs": [],
   "source": [
    "# Podem utilitzar-la per iterar:\n",
    "for i in range(10):\n",
    "    print(i, end = \" \")\n",
    "\n",
    "print()"
   ]
  },
  {
   "cell_type": "code",
   "execution_count": null,
   "metadata": {
    "attributes": {
     "classes": [
      "sourceCode"
     ],
     "id": ""
    }
   },
   "outputs": [],
   "source": [
    "# Podem definir el rang d'acció. \n",
    "\n",
    "# Per exemple, especificant només el final com hem fet abans\n",
    "for i in range(10):\n",
    "    print(i, end = \" \")\n",
    "\n",
    "print()\n",
    "\n",
    "# especificant inici i fi:\n",
    "for i in range(5, 10):\n",
    "    print(i, end = \" \")\n",
    "\n",
    "print()\n",
    "\n",
    "# o especificant també el salt entre cada valor:\n",
    "for i in range(5, 10, 3):\n",
    "    print(i, end = \" \")"
   ]
  },
  {
   "cell_type": "markdown",
   "metadata": {},
   "source": [
    "Sempre que no necessitem explícitament una llista, farem servir directament el tipus `range` (sense fer la conversió a llista), ja que això és en general més eficient (estalvia memòria). Només quan necessitem una llista, (per exemple, per visualitzar el resultat com hem fet en el primer exemple) convertirem el resultat de `range` a llista."
   ]
  },
  {
   "cell_type": "code",
   "execution_count": null,
   "metadata": {
    "attributes": {
     "classes": [
      "sourceCode"
     ],
     "id": ""
    }
   },
   "outputs": [],
   "source": [
    "# També és possible iterar en un diccionari:\n",
    "country_codes = {34: 'Spain', 376: 'Andorra', 41: 'Switzerland', 424: None}\n",
    "\n",
    "# Per clau:\n",
    "for country_code in country_codes.keys():\n",
    "    print(country_code)\n",
    "print()\n",
    "\n",
    "# Per valor:\n",
    "for country in country_codes.values():\n",
    "    print(country)\n",
    "print()\n",
    "\n",
    "# Per tots dos alhora:\n",
    "for country_code, country in country_codes.items():\n",
    "    print(country_code, country)"
   ]
  },
  {
   "cell_type": "markdown",
   "metadata": {},
   "source": [
    "Funcions\n",
    "---------\n",
    "\n",
    "Una altra manera molt important d'organitzar el flux d'execució és\n",
    "encapsulant una certa porció de codi en una funció reutilitzable. Una funció\n",
    "en Python utilitza el mateix concepte que una funció matemàtica. Per\n",
    "exemple, imaginem-nos la funció matemàtica:\n",
    "\n",
    "*suma(x, y) = x + y*\n",
    "\n",
    "A Python podem definir la mateixa funció de la manera següent:"
   ]
  },
  {
   "cell_type": "code",
   "execution_count": null,
   "metadata": {
    "attributes": {
     "classes": [
      "sourceCode"
     ],
     "id": ""
    }
   },
   "outputs": [],
   "source": [
    "# La funció 'suma' es defineix mitjançant la paraula especial 'def' i té dos arguments: 'x' i 'y':\n",
    "def suma(x, y):\n",
    "    # Tornem el valor de la suma\n",
    "    return x + y\n",
    "\n",
    "# En aquest moment, podem anomenar-la amb qualsevol valor:\n",
    "print(suma(2, 4))\n",
    "print(suma(5, -5))\n",
    "print(suma(3.5, 2.5))"
   ]
  },
  {
   "cell_type": "code",
   "execution_count": null,
   "metadata": {
    "attributes": {
     "classes": [
      "sourceCode"
     ],
     "id": ""
    }
   },
   "outputs": [],
   "source": [
    "# Podem definir una funció que no faci res utilitzant la paraula especial 'pass':\n",
    "\n",
    "def dummy():\n",
    "    pass\n",
    "\n",
    "dummy()"
   ]
  },
  {
   "cell_type": "code",
   "execution_count": null,
   "metadata": {
    "attributes": {
     "classes": [
      "sourceCode"
     ],
     "id": ""
    }
   },
   "outputs": [],
   "source": [
    "# Podríem tornar a definir el tros de codi de la seqüència de Fibonacci com una funció:\n",
    "\n",
    "def fibonacci(n=100):\n",
    "    a, b = 0, 1\n",
    "    while a < n:\n",
    "        print(a, end = \" \")\n",
    "        a, b = b, a+b\n",
    "\n",
    "fibonacci(10)"
   ]
  },
  {
   "cell_type": "code",
   "execution_count": null,
   "metadata": {
    "attributes": {
     "classes": [
      "sourceCode"
     ],
     "id": ""
    }
   },
   "outputs": [],
   "source": [
    "# A l'exemple anterior, hem definit que l'argument n tingui un valor per defecte. Això és molt útil\n",
    "# en els casos en què utilitzem la funció sempre amb un mateix valor, vulguem deixar constància d'un\n",
    "# cas d'exemple o per defecte. En aquest cas, podem executar la funció sense passar-li cap valor:\n",
    "fibonacci()"
   ]
  },
  {
   "cell_type": "code",
   "execution_count": null,
   "metadata": {
    "attributes": {
     "classes": [
      "sourceCode"
     ],
     "id": ""
    }
   },
   "outputs": [],
   "source": [
    "# Podem definir part dels arguments amb valors per defecte i un altre sense. \n",
    "# Els arguments sense valor per defecte sempre han d'estar més a l'esquerra a la definició de la funció:\n",
    "\n",
    "def potencia(a, b=2):\n",
    "    # Per defecte, elevarem al quadrat.\n",
    "    return a**b\n",
    "\n",
    "print(potencia(3))\n",
    "print(potencia(2, 3))"
   ]
  },
  {
   "cell_type": "markdown",
   "metadata": {},
   "source": [
    "**Recomanem la lectura de la [documentació oficial](https://docs.python.org/3/tutorial/controlflow.html)** per\n",
    "acabar de fixar coneixements.\n",
    "\n",
    "Llegir i escriure des de fitxers\n",
    "------------------------------\n",
    "\n",
    "Una tasca habitual és llegir línies d'un fitxer o escriure línies en un\n",
    "fitxer. A Python, llegir i escriure fitxers es fa amb la\n",
    "llibreria *os*. Una llibreria és un conjunt de codi que té cert\n",
    "sentit agrupar per a ser utilitzat per altra gent. En el nostre cas, *os* és\n",
    "una llibreria que agrupa funcions relacionades amb el sistema\n",
    "operatiu (_**o**perating **s**ystem_). Per carregar una llibreria,\n",
    "utilitzarem la paraula reservada _**import**_. Més endavant explicarem\n",
    "algunes particularitats d'utilitzar i importar llibreries. A\n",
    "continuació us expliquem com escriure i llegir un fitxer:"
   ]
  },
  {
   "cell_type": "code",
   "execution_count": null,
   "metadata": {},
   "outputs": [],
   "source": [
    "# Primer de tot, escriurem en un fitxer:\n",
    "import os\n",
    "\n",
    "# Obrim un fitxer de nom 'a_file.txt' per a escriptura (d'aquí la 'w', 'writing').\n",
    "# L'assignem a un objecte per gestionar el fitxer de nom 'out':\n",
    "out = open('a_file.txt', 'w')\n",
    "# Escriurem 10 línies, cadascuna amb un número del 0 al 9.\n",
    "for i in range(10):\n",
    "    # La línia següent escriu al fitxer tot el que posem dins 'out.write()'\n",
    "    # En el nostre cas, és un string del tipus '0\\n', '1\\n', etc. Això ho aconseguim \n",
    "    # utilitzant els wildcards %d i %s.\n",
    "    # %s representa un string o una cadena de caràcters i %d un nombre enter.\n",
    "    # Concatenem en aquest cas un nombre amb un string que es tracta del salt de\n",
    "    # línia, os.linesep, que equival a Linux\n",
    "    # a '\\n':\n",
    "    out.write(\"Línea %d%s\" % (i, os.linesep))\n",
    "    \n",
    "out.close()"
   ]
  },
  {
   "cell_type": "code",
   "execution_count": null,
   "metadata": {},
   "outputs": [],
   "source": [
    "# Ara llegirem el fitxer que acabem d'escriure de tres maneres diferents:\n",
    "\n",
    "# Primer mètode\n",
    "f = open('a_file.txt')\n",
    "for line in f:\n",
    "    print(line, end = \"\")\n",
    "f.close()\n",
    "print()\n",
    "\n",
    "# Segon mètode\n",
    "f = open('a_file.txt')\n",
    "lines = f.readlines()\n",
    "for line in lines:\n",
    "    print(line, end = \"\")\n",
    "f.close()\n",
    "print()\n",
    "\n",
    "# Tercer mètode\n",
    "with open('a_file.txt') as f:\n",
    "    for line in f:\n",
    "        print(line, end = \"\")"
   ]
  },
  {
   "cell_type": "markdown",
   "metadata": {},
   "source": [
    "Organització del codi\n",
    "-----------------------\n",
    "\n",
    "Un mòdul de Python és qualsevol fitxer amb extensió *.py* que estigui\n",
    "sota la ruta del _path_ de Python. El path de Python es pot consultar\n",
    "important la llibreria sys:"
   ]
  },
  {
   "cell_type": "code",
   "execution_count": null,
   "metadata": {},
   "outputs": [],
   "source": [
    "import sys\n",
    "print(sys.path)"
   ]
  },
  {
   "cell_type": "markdown",
   "metadata": {},
   "source": [
    "Per defecte, Python també mira les llibreries que s'hagin definit a\n",
    "la variable d'entorn \\$PYTHONPATH (això pot canviar lleugerament en un\n",
    "[entorn Windows](https://docs.python.org/3/using/cmdline.html))."
   ]
  },
  {
   "cell_type": "markdown",
   "metadata": {},
   "source": [
    "Un paquet en Python és qualsevol directori que contingui un fitxer\n",
    "especial de nom *\\_\\_init\\_\\_.py* (aquest fitxer estarà buit la majoria\n",
    "de vegades).\n",
    "\n",
    "Un mòdul pot contenir diferents funcions, variables o objectes. Per\n",
    "exemple, definim un mòdul de nom *prog\\_datasci.py* que contingui:"
   ]
  },
  {
   "cell_type": "code",
   "execution_count": null,
   "metadata": {
    "attributes": {
     "classes": [
      "sourceCode"
     ],
     "id": ""
    }
   },
   "outputs": [],
   "source": [
    "# prog_datasci.py\n",
    "\n",
    "PI = 3.14159265\n",
    "\n",
    "def suma(x, y):\n",
    "    return x + y\n",
    "\n",
    "\n",
    "def resta(x, y):\n",
    "    return x - y"
   ]
  },
  {
   "cell_type": "markdown",
   "metadata": {},
   "source": [
    "Per utilitzar des d'un altre mòdul o _script_ aquestes funcions, hauríem\n",
    "d'escriure el següent:"
   ]
  },
  {
   "cell_type": "code",
   "execution_count": null,
   "metadata": {
    "attributes": {
     "classes": [
      "sourceCode"
     ],
     "id": ""
    }
   },
   "outputs": [],
   "source": [
    "from prog_datasci import PI, suma, resta\n",
    "\n",
    "# I llavors podríem utilitzar-les normalment.\n",
    "rset = suma(2,5)"
   ]
  },
  {
   "cell_type": "markdown",
   "metadata": {},
   "source": [
    "A Python també podem utilitzar la directiva `from prog_datasci import *`, però el seu ús està **totalment desaconsellat**. La raó és\n",
    "que estaríem important gran quantitat de codi que no utilitzarem (amb el\n",
    "consegüent augment de l'ús de la memòria), però a més, podríem tenir\n",
    "col·lisions de noms (funcions que es diguin de la mateixa manera en\n",
    "diferents mòduls) sense el nostre coneixement. Si no és que és\n",
    "imprescindible, no utilitzarem aquesta directiva i importarem una a una\n",
    "les llibreries i les funcions que necessitarem.\n",
    "\n",
    "Podeu aprendre més sobre importar llibreries i definir els vostres\n",
    "propis mòduls [aquí](http://life.bsc.es/pid/brian/python/#/5)."
   ]
  }
 ],
 "metadata": {
  "kernelspec": {
   "display_name": "Python 3",
   "language": "python",
   "name": "python3"
  },
  "language_info": {
   "codemirror_mode": {
    "name": "ipython",
    "version": 3
   },
   "file_extension": ".py",
   "mimetype": "text/x-python",
   "name": "python",
   "nbconvert_exporter": "python",
   "pygments_lexer": "ipython3",
   "version": "3.5.2"
  }
 },
 "nbformat": 4,
 "nbformat_minor": 4
}

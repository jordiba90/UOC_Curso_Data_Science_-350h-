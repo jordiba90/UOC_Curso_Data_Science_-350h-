{
 "cells": [
  {
   "cell_type": "markdown",
   "metadata": {},
   "source": [
    "06 Processat de Dades\n",
    "============================\n",
    "\n",
    "Instruccions d'ús\n",
    "-----------------\n",
    "\n",
    "A continuació es presentaran explicacions i exemples de preprocessament\n",
    "de dades en Python. Recordeu que podeu anar executant els exemples per\n",
    "obtenir-ne els resultats.\n",
    "\n",
    "Introducció\n",
    "-----------\n",
    "\n",
    "En aquest mòdul treballarem amb la llibreria\n",
    "[pandas](http://pandas.pydata.org/), que ja hem introduït als mòduls\n",
    "anteriors, i [scikit-learn](http://scikit-learn.org), una nova llibreria\n",
    "que presentem en aquest mòdul. Scikit-learn és una llibreria\n",
    "d'aprenentatge automàtic de Python que ens ofereix eines i\n",
    "implementacions d'algoritmes per mineria i anàlisi de dades. Al mateix\n",
    "web de scikit-learn podeu trobar-ne la [documentació\n",
    "completa](http://scikit-learn.org/stable/documentation.html).\n",
    "\n",
    "Aquest Notebook conté exemples concrets de tècniques que poden\n",
    "aplicar-se per preprocessar dades per a cada un dels grups de tècniques\n",
    "descrits a la introducció del mòdul (a la xwiki associada). És important\n",
    "destacar que s'han seleccionat únicament algunes tècniques dins de cada\n",
    "grup per presentar exemples del tipus de transforamcions es realitzen\n",
    "però, a la pràctica, el conjunt de tècniques que s'apliquen al\n",
    "preprocessament de dades és molt més extens.\n",
    "\n",
    "En aquest Notebook veurem com aplicar diferents tècniques de\n",
    "preprocessament de dades sobre un conjunt de dades meteorològiques de la\n",
    "ciutat de Pequín. El _dataset_ original pot trobar-se al\n",
    "[repositori de Machine Learning de l'UC\n",
    "Irvine](http://archive.ics.uci.edu/ml/datasets/Beijing+PM2.5+Data#),\n",
    "tot i que per a les activitats utilitzarem una variant modificada del\n",
    "mateix que ens permetrà practicar un conjunt més ampli de tècniques.\n",
    "Podeu trobar una petita descripció dels atributs del conjunt de dades\n",
    "seguint l'enllaç anterior.\n",
    "\n",
    "Primers passos\n",
    "--------------\n",
    "\n",
    "En primer lloc, carreguem el conjunt de dades:"
   ]
  },
  {
   "cell_type": "code",
   "execution_count": null,
   "metadata": {
    "attributes": {
     "classes": [
      "sourceCode"
     ],
     "id": ""
    }
   },
   "outputs": [],
   "source": [
    "# Importem la llibreria pandas.\n",
    "import pandas as pd\n",
    "\n",
    "# Carreguem les dades del fitxer \"weather_dataset_edited.csv\" en un dataframe.\n",
    "data = pd.read_csv(\"data/weather_dataset_edited.csv\")\n",
    "\n",
    "# Mostrem una descripció bàsica de les dades carregades.\n",
    "print(type(data))\n",
    "print(len(data))\n",
    "data.head(n=5)"
   ]
  },
  {
   "cell_type": "markdown",
   "metadata": {},
   "source": [
    "Integració de dades\n",
    "-------------------\n",
    "\n",
    "El conjunt de dades ha estat creat amb la col·laboració de diferents\n",
    "persones. Tot i que totes elles anotaven la mateixa informació, la\n",
    "veritat és que van utilitzar una nomenclatura diferent per descriure la\n",
    "direcció del vent. Vegem com podem unificar la nomenclatura usada per\n",
    "tots ells."
   ]
  },
  {
   "cell_type": "code",
   "execution_count": null,
   "metadata": {
    "attributes": {
     "classes": [
      "sourceCode"
     ],
     "id": ""
    }
   },
   "outputs": [],
   "source": [
    "# Visualitzem les diferents abreviatures utilitzades.\n",
    "set(data[\"cbwd\"])"
   ]
  },
  {
   "cell_type": "code",
   "execution_count": null,
   "metadata": {
    "attributes": {
     "classes": [
      "sourceCode"
     ],
     "id": ""
    }
   },
   "outputs": [],
   "source": [
    "# Unifiquem la nomenclatura para fer servir únicament majúscules.\n",
    "data.loc[data.cbwd == \"ne\", \"cbwd\"] = \"NE\"\n",
    "data.loc[(data.cbwd == \"Nw\") | (data.cbwd == \"nW\") | (data.cbwd == \"nw\"), \"cbwd\"] = \"NW\"\n",
    "data.loc[(data.cbwd == \"Se\") | (data.cbwd == \"sE\") | (data.cbwd == \"se\"), \"cbwd\"] = \"SE\""
   ]
  },
  {
   "cell_type": "markdown",
   "metadata": {},
   "source": [
    "Noteu que fem servir l'operador `.loc`, que havíem vist al mòdul 4 (a les\n",
    "explicacions sobre la llibreria Pandas) per filtrar les files que\n",
    "compleixen una característica concreta (per exemple, per a la primera\n",
    "sentència, que tenen el valor _ne_ al camp `cbwd`) i després seleccionem\n",
    "únicament la columna «cbwd» per poder assignar-li el nou valor (en\n",
    "aquest cas, _NE_)."
   ]
  },
  {
   "cell_type": "code",
   "execution_count": null,
   "metadata": {
    "attributes": {
     "classes": [
      "sourceCode"
     ],
     "id": ""
    }
   },
   "outputs": [],
   "source": [
    "# Comprovem que la substitució s'hagi dut a terme correctament.\n",
    "set(data[\"cbwd\"])"
   ]
  },
  {
   "cell_type": "markdown",
   "metadata": {},
   "source": [
    "A més, sabem que normalment la temperatura es mesurava amb un termòmetre\n",
    "configurat per utilitzar el sistema mètric internacional, per la qual\n",
    "cosa es troba expressada en graus Celsius. No obstant això, durant l'any\n",
    "2011 es van estar prenent les mesures amb un altre termòmetre configurat\n",
    "amb graus Fahrenheit, de manera que les mostres d' aquest any es troben\n",
    "expressades en graus Fahrenheit. Vegem com podem unificar les mesures de temperatura."
   ]
  },
  {
   "cell_type": "code",
   "execution_count": null,
   "metadata": {
    "attributes": {
     "classes": [
      "sourceCode"
     ],
     "id": ""
    }
   },
   "outputs": [],
   "source": [
    "# Importem la llibreria NumPy.\n",
    "import numpy as np\n",
    "\n",
    "# Visualitzem la mitjana anual de les temperatures.\n",
    "grouped = data.groupby(\"year\")\n",
    "grouped.aggregate({\"TEMP\": np.mean})"
   ]
  },
  {
   "cell_type": "markdown",
   "metadata": {},
   "source": [
    "Fixeu-vos que, efectivament, la mitjana de l'any 2011 és molt més alta\n",
    "que la de la resta d'anys."
   ]
  },
  {
   "cell_type": "code",
   "execution_count": null,
   "metadata": {
    "attributes": {
     "classes": [
      "sourceCode"
     ],
     "id": ""
    }
   },
   "outputs": [],
   "source": [
    "# Definim una funció que converteix graus Fahrenheit en graus Celsius.\n",
    "def fahrenheit_to_celsius(x):\n",
    "    return (x-32)*5/9\n",
    "\n",
    "# Substituïm els valors de les temperatures de l'any 2011 pel resultat d'aplicar la funció\n",
    "# 'fahrenheit_to_celsius' al valor actual.\n",
    "data.loc[data.year == 2011, \"TEMP\"] = data[data.year == 2011][\"TEMP\"].apply(fahrenheit_to_celsius)"
   ]
  },
  {
   "cell_type": "code",
   "execution_count": null,
   "metadata": {
    "attributes": {
     "classes": [
      "sourceCode"
     ],
     "id": ""
    }
   },
   "outputs": [],
   "source": [
    "# Comprovem que els canvis realitzats han tingut efecte.\n",
    "grouped.aggregate({\"TEMP\": np.mean})"
   ]
  },
  {
   "cell_type": "markdown",
   "metadata": {},
   "source": [
    "Transformació de dades\n",
    "----------------------\n",
    "\n",
    "Els atributs `month` i `cbwd` contenen cadenes de caràcters com valors i\n",
    "representen variables categòriques, de manera que segons quin tipus\n",
    "d'algorismes de mineria de dades no podran treballar amb elles. Per\n",
    "això, les transformarem en un conjunt d'atributs binaris (un atribut per\n",
    "a cada categoria possible)."
   ]
  },
  {
   "cell_type": "code",
   "execution_count": null,
   "metadata": {
    "attributes": {
     "classes": [
      "sourceCode"
     ],
     "id": ""
    }
   },
   "outputs": [],
   "source": [
    "# Mostrem el conjunt d'atributs original.\n",
    "print(list(data))"
   ]
  },
  {
   "cell_type": "code",
   "execution_count": null,
   "metadata": {
    "attributes": {
     "classes": [
      "sourceCode"
     ],
     "id": ""
    }
   },
   "outputs": [],
   "source": [
    "# Creem nous atributs binaris per a les categories utilitzades a les columnes \"month\" i \"cbwd\".\n",
    "data_trans = pd.get_dummies(data, columns=[\"month\", \"cbwd\"], dummy_na=True)"
   ]
  },
  {
   "cell_type": "code",
   "execution_count": null,
   "metadata": {
    "attributes": {
     "classes": [
      "sourceCode"
     ],
     "id": ""
    }
   },
   "outputs": [],
   "source": [
    "# Mostrem el conjunt d'atributs després de la transformació.\n",
    "print(list(data_trans))"
   ]
  },
  {
   "cell_type": "markdown",
   "metadata": {},
   "source": [
    "Podem veure un exemple de com s'han transformat els valors observant\n",
    "algunes mostres concretes. Així, per a les mostres entre les posicions\n",
    "deu i vint i la columna `cbwd`:"
   ]
  },
  {
   "cell_type": "code",
   "execution_count": null,
   "metadata": {
    "attributes": {
     "classes": [
      "sourceCode"
     ],
     "id": ""
    }
   },
   "outputs": [],
   "source": [
    "# Mostrem el valor de la columna \"cbwd\" original per a les mostres entre les posicions deu i vint.\n",
    "print(data.loc[10:20, [\"cbwd\"]])\n",
    "\n",
    "# Mostrem els valors de les noves columnes \"cbwd_NE\", \"cbwd_NW\", \"cbwd_SE\", \"cbwd_nan\"\n",
    "# Per a les mostres entre les posicions deu i vint.\n",
    "data_trans.loc[10:20, [\"cbwd_NE\", \"cbwd_NW\", \"cbwd_SE\", \"cbwd_nan\"]]"
   ]
  },
  {
   "cell_type": "markdown",
   "metadata": {},
   "source": [
    "Neteja de dades\n",
    "---------------\n",
    "\n",
    "Un dels problemes que es tracten a la neteja de dades és el tractament\n",
    "de valors perduts. Hi ha múltiples estratègies per tractar amb aquests\n",
    "valors, des de directament eliminar les mostres que contenen algun valor\n",
    "perdut fins a substituir els valors perduts per algun altre valor (per\n",
    "exemple, per atributs numèrics, la mitjana de l'atribut a la resta de\n",
    "mostres). Vegem un exemple de substitució de valors perduts per la\n",
    "mitjana de l'atribut.\n",
    "\n",
    "En primer lloc, identifiquem els atributs que tenen algun valor NaN:"
   ]
  },
  {
   "cell_type": "code",
   "execution_count": null,
   "metadata": {
    "attributes": {
     "classes": [
      "sourceCode"
     ],
     "id": ""
    }
   },
   "outputs": [],
   "source": [
    "# Definim una funció que ens retorna un valor booleà indicant si algun dels valors\n",
    "# de la sèrie és NaN.\n",
    "def any_is_null(x):\n",
    "    return any(pd.isnull(x))\n",
    "\n",
    "# Apliquem la funció 'any_is_null' a cada columna del 'dataframe'.\n",
    "print(data_trans.apply(any_is_null))"
   ]
  },
  {
   "cell_type": "markdown",
   "metadata": {},
   "source": [
    "Fixeu-vos que tot i que la columna `cbwd` original contenia valors\n",
    "perduts, després de la transformació ja no els tenim, ja que aquests es\n",
    "troben representats amb valors binaris a la columna `cbwd_nan`. Així,\n",
    "només cal tractar els valors perduts de la columna `pm2.5`.\n",
    "\n",
    "Procedim a substituir els valors perduts de la columna `pm2.5` per la\n",
    "mitjana de la columna utilitzant la llibreria Sklearn (tot i que també\n",
    "podríem utilitzar les funcions d'indexació de pandas per aconseguir el\n",
    "mateix objectiu)."
   ]
  },
  {
   "cell_type": "code",
   "execution_count": null,
   "metadata": {
    "attributes": {
     "classes": [
      "sourceCode"
     ],
     "id": ""
    }
   },
   "outputs": [],
   "source": [
    "# Importem Imputer del mòdul de preprocessament de la llibreria Sklearn.\n",
    "from sklearn.impute import SimpleImputer\n",
    "\n",
    "# Substituirem els valors perduts per la mitjana de la columna (el paràmetre axis = 0 indica que calcularem \n",
    "# la mitjana sobre la columna).\n",
    "imp = SimpleImputer(strategy='mean')\n",
    "\n",
    "# Apliquem la transformació a la columna pm2.5.\n",
    "data_trans[\"pm2.5\"] = imp.fit_transform(data_trans[[\"pm2.5\"]]).ravel()"
   ]
  },
  {
   "cell_type": "code",
   "execution_count": null,
   "metadata": {
    "attributes": {
     "classes": [
      "sourceCode"
     ],
     "id": ""
    }
   },
   "outputs": [],
   "source": [
    "# Comprovem que s'han eliminat els valors perduts.\n",
    "print(data_trans.apply(any_is_null))"
   ]
  },
  {
   "cell_type": "markdown",
   "metadata": {},
   "source": [
    "Normalització de dades\n",
    "----------------------\n",
    "\n",
    "Una de les alternatives per normalitzar les dades consisteix a centrar\n",
    "els valors perquè la mitjana de l'atribut sigui propera a zero i\n",
    "escalar-los perquè la variància sigui 1. Vegem com realitzar aquest\n",
    "procés sobre l'atribut que conté la pressió atmosfèrica."
   ]
  },
  {
   "cell_type": "code",
   "execution_count": null,
   "metadata": {
    "attributes": {
     "classes": [
      "sourceCode"
     ],
     "id": ""
    }
   },
   "outputs": [],
   "source": [
    "# Observem les estadístiques bàsiques originals de l'atribut \"PRES\".\n",
    "data_trans[\"PRES\"].describe()"
   ]
  },
  {
   "cell_type": "code",
   "execution_count": null,
   "metadata": {
    "attributes": {
     "classes": [
      "sourceCode"
     ],
     "id": ""
    }
   },
   "outputs": [],
   "source": [
    "# Importem StandardScaler del mòdul de preprocessament de la llibreria Sklearn.\n",
    "from sklearn.preprocessing import StandardScaler\n",
    "\n",
    "# Utilitzem el StandardScaler de Sklearn per normalitzar els valors de l'atribut \"PRES\".\n",
    "data_trans.loc[:, [\"PRES\"]] = StandardScaler().fit_transform(data_trans.loc[:, [\"PRES\"]])"
   ]
  },
  {
   "cell_type": "code",
   "execution_count": null,
   "metadata": {
    "attributes": {
     "classes": [
      "sourceCode"
     ],
     "id": ""
    }
   },
   "outputs": [],
   "source": [
    "# Observem els estadístics bàsics de l'atribut \"PRES\" després de la transformació.\n",
    "data_trans[\"PRES\"].describe()"
   ]
  },
  {
   "cell_type": "markdown",
   "metadata": {},
   "source": [
    "Fixeu-vos que, efectivament, la mitjana s'aproxima ara al valor 0, i la\n",
    "desviació, a 1.\n",
    "\n",
    "Reducció de dimensions\n",
    "----------------------\n",
    "\n",
    "Una opció senzilla per reduir dimensions consisteix a seleccionar un\n",
    "conjunt de característiques d'interès. Podem dur a terme aquesta selecció\n",
    "de manera senzilla gràcies a les funcions que disposem sobre els\n",
    "_dataframes_ de pandas."
   ]
  },
  {
   "cell_type": "code",
   "execution_count": null,
   "metadata": {
    "attributes": {
     "classes": [
      "sourceCode"
     ],
     "id": ""
    }
   },
   "outputs": [],
   "source": [
    "# Mostrem els atributs actuals.\n",
    "print(list(data_trans))"
   ]
  },
  {
   "cell_type": "code",
   "execution_count": null,
   "metadata": {
    "attributes": {
     "classes": [
      "sourceCode"
     ],
     "id": ""
    }
   },
   "outputs": [],
   "source": [
    "# Eliminem l'atribut \"DEWP\".\n",
    "data_trans = data_trans.drop(\"DEWP\", axis=1)"
   ]
  },
  {
   "cell_type": "code",
   "execution_count": null,
   "metadata": {
    "attributes": {
     "classes": [
      "sourceCode"
     ],
     "id": ""
    }
   },
   "outputs": [],
   "source": [
    "# Mostrem els atributs després del canvi.\n",
    "print(list(data_trans))"
   ]
  },
  {
   "cell_type": "markdown",
   "metadata": {},
   "source": [
    "Un grup de tècniques de reducció de dimensions molt desenvolupat se\n",
    "centra en l'extracció de característiques. Tot i que conceptualment\n",
    "aquests processos s'escapen d'aquest curs introductori, la veritat és\n",
    "que és fàcil aplicar aquestes tècniques amb Sklearn. Si hi esteu\n",
    "interessats podeu consultar [els\n",
    "exemples](http://scikit-learn.org/stable/modules/generated/sklearn.decomposition.PCA.html#examples-using-sklearn-decomposition-pca)\n",
    "de la pròpia documentació de Sklearn.\n",
    "\n",
    "Reducció de mostres\n",
    "-------------------\n",
    "\n",
    "Una alternativa senzilla per fer una reducció de les mostres disponibles\n",
    "consisteix a seleccionar de manera aleatòria uniforme un subconjunt de\n",
    "mostres del _dataset_."
   ]
  },
  {
   "cell_type": "code",
   "execution_count": null,
   "metadata": {
    "attributes": {
     "classes": [
      "sourceCode"
     ],
     "id": ""
    }
   },
   "outputs": [],
   "source": [
    "# Mostrem el nombre de mostres original.\n",
    "print(len(data_trans))"
   ]
  },
  {
   "cell_type": "code",
   "execution_count": null,
   "metadata": {
    "attributes": {
     "classes": [
      "sourceCode"
     ],
     "id": ""
    }
   },
   "outputs": [],
   "source": [
    "# Seleccionem un 25% de les mostres de manera aleatòria.\n",
    "sampled_data = data_trans.sample(frac=0.25)"
   ]
  },
  {
   "cell_type": "code",
   "execution_count": null,
   "metadata": {
    "attributes": {
     "classes": [
      "sourceCode"
     ],
     "id": ""
    }
   },
   "outputs": [],
   "source": [
    "# Mostrem el nombre de mostres seleccionat.\n",
    "print(len(sampled_data))\n",
    "\n",
    "# Mostrem les cinc primeres mostres seleccionades.\n",
    "sampled_data.head(n=5)"
   ]
  },
  {
   "cell_type": "markdown",
   "metadata": {},
   "source": [
    "Fixeu-vos que el _dataframe_ conserva el nombre d'atributs original, però\n",
    "només conté un 25% de les mostres originals.\n",
    "\n",
    "Discretització\n",
    "--------------\n",
    "\n",
    "De vegades ens interessarà convertir un atribut continu en un de\n",
    "discret. Una manera de fer-ho és divir l'espai de possibles valors que\n",
    "pren l'atribut a `n` *bins* o intervals de la mateixa mida i assignar\n",
    "cada mostra a l'interval al qual pertany. Vegem un exemple discretitzant\n",
    "l'atribut `Iws` en cinc intervals de la mateixa mida."
   ]
  },
  {
   "cell_type": "code",
   "execution_count": null,
   "metadata": {
    "attributes": {
     "classes": [
      "sourceCode"
     ],
     "id": ""
    }
   },
   "outputs": [],
   "source": [
    "# Observem les estadístiques bàsiques de l'atribut \"Iws\".\n",
    "data_trans[\"Iws\"].describe()"
   ]
  },
  {
   "cell_type": "code",
   "execution_count": null,
   "metadata": {
    "attributes": {
     "classes": [
      "sourceCode"
     ],
     "id": ""
    }
   },
   "outputs": [],
   "source": [
    "# Creem un nou atribut \"Iws_disc\" que conté la discretització d'\"Iws\".\n",
    "data_trans[\"Iws_disc\"] = pd.cut(data_trans[\"Iws\"], 5)"
   ]
  },
  {
   "cell_type": "code",
   "execution_count": null,
   "metadata": {
    "attributes": {
     "classes": [
      "sourceCode"
     ],
     "id": ""
    }
   },
   "outputs": [],
   "source": [
    "# Visualitzem el contingut dels atributs \"Iws\" i \"Iws_disc\" per a un subconjunt de mostres \n",
    "# per observar-ne el resultat.\n",
    "data_trans.loc[80:90, [\"Iws\", \"Iws_disc\"]]"
   ]
  },
  {
   "cell_type": "markdown",
   "metadata": {},
   "source": [
    "Per defecte la funció `cut` utilitza l'interval com a valor del nou\n",
    "atribut. Podem assignar valors arbitraris al nou atribut, per exemple:"
   ]
  },
  {
   "cell_type": "code",
   "execution_count": null,
   "metadata": {
    "attributes": {
     "classes": [
      "sourceCode"
     ],
     "id": ""
    }
   },
   "outputs": [],
   "source": [
    "# Designem cinc noms per als intervals\n",
    "group_names = ['Very Low', 'Low', 'Medium', 'High', 'Very High']"
   ]
  },
  {
   "cell_type": "code",
   "execution_count": null,
   "metadata": {
    "attributes": {
     "classes": [
      "sourceCode"
     ],
     "id": ""
    }
   },
   "outputs": [],
   "source": [
    "# Creem un nou atribut \"Iws_disc_named\" discretitzant de nou \"Iws\" amb cinc intervals\n",
    "# de la mateixa mida però fent servir ara les etiquetes definides.\n",
    "data_trans[\"Iws_disc_named\"] = pd.cut(data_trans[\"Iws\"], 5, labels = group_names)"
   ]
  },
  {
   "cell_type": "code",
   "execution_count": null,
   "metadata": {
    "attributes": {
     "classes": [
      "sourceCode"
     ],
     "id": ""
    }
   },
   "outputs": [],
   "source": [
    "# Visualitzem el contingut dels atributs \"Iws\", \"Iws_disc\" i \"Iws_disc_named\" \n",
    "# per a un subconjunt de mostres per observar-ne el resultat.\n",
    "data_trans.loc[80:90, [\"Iws\", \"Iws_disc\", \"Iws_disc_named\"]]"
   ]
  }
 ],
 "metadata": {
  "kernelspec": {
   "display_name": "Python 3",
   "language": "python",
   "name": "python3"
  },
  "language_info": {
   "codemirror_mode": {
    "name": "ipython",
    "version": 3
   },
   "file_extension": ".py",
   "mimetype": "text/x-python",
   "name": "python",
   "nbconvert_exporter": "python",
   "pygments_lexer": "ipython3",
   "version": "3.5.2"
  }
 },
 "nbformat": 4,
 "nbformat_minor": 4
}

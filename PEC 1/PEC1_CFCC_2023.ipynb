{
 "cells": [
  {
   "cell_type": "markdown",
   "metadata": {},
   "source": [
    "## PEC1: NOTEBOOK CON CÓDIGO PARA DESCARGA DESDE LA API DE IDEALISTA"
   ]
  },
  {
   "cell_type": "markdown",
   "metadata": {},
   "source": [
    "### Import de las librerías necesarias"
   ]
  },
  {
   "cell_type": "code",
   "execution_count": null,
   "metadata": {},
   "outputs": [],
   "source": [
    "import pandas as pd\n",
    "import json\n",
    "import urllib\n",
    "import requests as rq\n",
    "import base64"
   ]
  },
  {
   "cell_type": "markdown",
   "metadata": {},
   "source": [
    "### 1. Definición de funciones necesarias para identificarnos introduciondo nuestra apikey y nuestra secret (2 puntos)"
   ]
  },
  {
   "cell_type": "code",
   "execution_count": null,
   "metadata": {},
   "outputs": [],
   "source": [
    "def get_oauth_token():\n",
    "    url = \"https://api.idealista.com/oauth/token\"    \n",
    "    apikey= \"Vuestra APIKEY\"\n",
    "    secret= \"Vuestra SECRET\"\n",
    "    clave = apikey + ':' + secret\n",
    "    auth = base64.b64encode(clave.encode(\"utf-8\"))\n",
    "    auth_aux = str(auth, \"utf-8\")\n",
    "    headers = {'Content-Type': 'application/x-www-form-urlencoded;charset=UTF-8' ,'Authorization' : 'Basic ' + auth_aux}\n",
    "    params = urllib.parse.urlencode({'grant_type':'client_credentials'})\n",
    "    content = rq.post(url,headers = headers, params=params)\n",
    "    bearer_token = json.loads(content.text)['access_token']\n",
    "    return bearer_token"
   ]
  },
  {
   "cell_type": "code",
   "execution_count": null,
   "metadata": {},
   "outputs": [],
   "source": [
    "def search_api(token, url):  \n",
    "    headers = {'Content-Type': 'Content-Type: multipart/form-data;', 'Authorization' : 'Bearer ' + token}\n",
    "    content = rq.post(url, headers = headers)\n",
    "    result = json.loads(content.text)\n",
    "    return result\n",
    "\n"
   ]
  },
  {
   "cell_type": "markdown",
   "metadata": {},
   "source": [
    "### 2. Código con bucle for de lectura de los datos. En este apartado debéis definir los parámetros (center, distance, bedrooms, maxPrice y minPrice), de tal forma que descarguéis la información que queráis analizar. Se han dejado comentados unos datos de muestra para que veáis el formato que deben tener estos parámetros. (3 puntos)"
   ]
  },
  {
   "cell_type": "code",
   "execution_count": null,
   "metadata": {},
   "outputs": [],
   "source": [
    "country = 'es'\n",
    "locale = 'es'\n",
    "language = 'es'\n",
    "max_items = '50'\n",
    "operation = 'sale'\n",
    "property_type = 'homes'\n",
    "order = 'priceDown'\n",
    "sort = 'desc'\n",
    "# center = '40.4167,-3.70325'\n",
    "# distance = '5000'\n",
    "# bedrooms = '1,2,3,4'\n",
    "# maxPrice = '300000'\n",
    "# minPrice = '150000'\n",
    "\n",
    "df_tot = pd.DataFrame()\n",
    "limit = 11\n",
    "\n",
    "for i in range(1,limit):\n",
    "    url = ('https://api.idealista.com/3.5/'+country+'/search?operation='+operation+\n",
    "           '&maxItems='+max_items+\n",
    "           '&order='+order+\n",
    "           '&center='+center+\n",
    "           '&distance='+distance+\n",
    "           '&propertyType='+property_type+\n",
    "           '&sort='+sort+\n",
    "           '&numPage=%s'+\n",
    "           '&language='+language+\n",
    "           '&maxPrice='+maxPrice+\n",
    "           '&minPrice='+minPrice+\n",
    "           '&bedrooms='+bedrooms) %(i)\n",
    "\n",
    "    a = search_api(get_oauth_token(), url)\n",
    "    df = pd.DataFrame.from_dict(a['elementList'])\n",
    "\n",
    "    df_tot = pd.concat([df_tot,df], sort=False)\n",
    "df_tot = df_tot.reset_index()"
   ]
  },
  {
   "cell_type": "markdown",
   "metadata": {},
   "source": [
    "### 3. Ahora debéis unificar las diferentes descargas almacenadas en df_tot para generar un dataset con todas las viviendas a analizar. (2.5 puntos)"
   ]
  },
  {
   "cell_type": "code",
   "execution_count": null,
   "metadata": {},
   "outputs": [],
   "source": []
  },
  {
   "cell_type": "markdown",
   "metadata": {},
   "source": [
    "### 4. Por último vamos a exportar los datos a un fichero csv para poder almacenarlos y no perderlos al final de la ejecución. (1.5 puntos)"
   ]
  },
  {
   "cell_type": "code",
   "execution_count": null,
   "metadata": {},
   "outputs": [],
   "source": []
  }
 ],
 "metadata": {
  "kernelspec": {
   "display_name": "Python 3",
   "language": "python",
   "name": "python3"
  },
  "language_info": {
   "codemirror_mode": {
    "name": "ipython",
    "version": 3
   },
   "file_extension": ".py",
   "mimetype": "text/x-python",
   "name": "python",
   "nbconvert_exporter": "python",
   "pygments_lexer": "ipython3",
   "version": "3.5.2"
  }
 },
 "nbformat": 4,
 "nbformat_minor": 4
}
